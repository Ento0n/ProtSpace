{
 "cells": [
  {
   "cell_type": "code",
   "execution_count": 1,
   "metadata": {},
   "outputs": [
    {
     "data": {
      "text/html": [
       "\n",
       "                <script type=\"application/javascript\" id=\"jupyter_black\">\n",
       "                (function() {\n",
       "                    if (window.IPython === undefined) {\n",
       "                        return\n",
       "                    }\n",
       "                    var msg = \"WARNING: it looks like you might have loaded \" +\n",
       "                        \"jupyter_black in a non-lab notebook with \" +\n",
       "                        \"`is_lab=True`. Please double check, and if \" +\n",
       "                        \"loading with `%load_ext` please review the README!\"\n",
       "                    console.log(msg)\n",
       "                    alert(msg)\n",
       "                })()\n",
       "                </script>\n",
       "                "
      ],
      "text/plain": [
       "<IPython.core.display.HTML object>"
      ]
     },
     "metadata": {},
     "output_type": "display_data"
    }
   ],
   "source": [
    "import jupyter_black\n",
    "\n",
    "jupyter_black.load()"
   ]
  },
  {
   "cell_type": "code",
   "execution_count": 2,
   "metadata": {},
   "outputs": [],
   "source": [
    "import pandas as pd\n",
    "from pathlib import Path\n",
    "import xml.etree.ElementTree as ET\n",
    "\n",
    "base = Path(\"data\")\n",
    "xml_file = base / \"conoserver_protein.xml\"\n",
    "xml_new = xml_file.with_stem(f\"{xml_file.stem}_new\")\n",
    "seq_mods_path = base / \"seq_mods.csv\"\n",
    "seq_mods_path2 = base / \"seq_mods2.csv\"\n",
    "fasta_path = Path(\"xml_conoserver.fasta\")\n",
    "feature_csv_path = \"xml_conoserver.csv\""
   ]
  },
  {
   "attachments": {},
   "cell_type": "markdown",
   "metadata": {},
   "source": [
    "## Reformat original XML file"
   ]
  },
  {
   "cell_type": "code",
   "execution_count": 3,
   "metadata": {},
   "outputs": [],
   "source": [
    "from html.entities import name2codepoint\n",
    "\n",
    "entity_replacer = {\n",
    "    f\"&{html_entity};\": f\"&#{unicode_codepoint};\"\n",
    "    for html_entity, unicode_codepoint in name2codepoint.items()\n",
    "}"
   ]
  },
  {
   "cell_type": "code",
   "execution_count": null,
   "metadata": {},
   "outputs": [],
   "source": [
    "# replace unreadable/non-standard characters\n",
    "with open(xml_file, \"r\") as xml, open(xml_new, \"w\") as new:\n",
    "    for idx, line in enumerate(xml):\n",
    "        if idx == 47453:\n",
    "            line = line.replace(\"&mu\", \"&mu;\")\n",
    "        elif idx == 220188:\n",
    "            bad_char = 197\n",
    "            line = line[:bad_char] + line[bad_char + 1 :]\n",
    "        elif idx in [265620, 265642, 265692, 265717, 265742, 265667]:\n",
    "            line = line.replace(\" & \", \" &amp; \")\n",
    "        for entity, codepoint in entity_replacer.items():\n",
    "            if entity in line:\n",
    "                line = line.replace(entity, str(codepoint))\n",
    "        new.write(line)"
   ]
  },
  {
   "cell_type": "code",
   "execution_count": null,
   "metadata": {},
   "outputs": [],
   "source": [
    "# Fix indentation\n",
    "tree = ET.parse(xml_new)\n",
    "ET.indent(tree, space=\"    \", level=0)\n",
    "tree.write(xml_new)  # , encoding=\"utf-8\")"
   ]
  },
  {
   "cell_type": "code",
   "execution_count": 6,
   "metadata": {},
   "outputs": [],
   "source": [
    "# read XML file in memory\n",
    "tree = ET.parse(xml_new)\n",
    "root = tree.getroot()"
   ]
  },
  {
   "cell_type": "code",
   "execution_count": 7,
   "metadata": {},
   "outputs": [],
   "source": [
    "# get all `sequenceModifications` and save them in `seq_mod_path`\n",
    "dict_mod = {}\n",
    "\n",
    "\n",
    "def get_sequence(entry: ET.Element):\n",
    "    seq = entry.find(\"sequence\")\n",
    "    seq_mod = entry.find(\"sequenceModifications\")\n",
    "    if seq_mod is not None:\n",
    "        mods = seq_mod.findall(\"modification\")\n",
    "        for mod in mods:\n",
    "            mod_attr = mod.attrib\n",
    "            dict_mod[mod_attr[\"symbol\"]] = mod_attr[\"name\"]\n",
    "            # yield mod_attr\n",
    "    return seq\n",
    "\n",
    "\n",
    "for idx, entry in enumerate(root):\n",
    "    seq = get_sequence(entry)\n",
    "\n",
    "result = [\n",
    "    dict(zip((\"symbol\", \"name\"), (symbol, name)))\n",
    "    for symbol, name in sorted(dict_mod.items())\n",
    "]\n",
    "df = pd.DataFrame(result)\n",
    "df[\"canonical_aa\"] = \"\"\n",
    "df.to_csv(seq_mods_path, index=False)"
   ]
  },
  {
   "cell_type": "code",
   "execution_count": 8,
   "metadata": {},
   "outputs": [],
   "source": [
    "# get tag list\n",
    "tag_lst = set()\n",
    "for entry in root:\n",
    "    for lvl1_elem in entry:\n",
    "        tag_lst.add(lvl1_elem.tag)\n",
    "tag_lst = sorted(list(tag_lst))"
   ]
  },
  {
   "cell_type": "code",
   "execution_count": 9,
   "metadata": {},
   "outputs": [],
   "source": [
    "tags = [\n",
    "    \"alternativeNames\",\n",
    "    \"averageMass\",\n",
    "    \"class\",\n",
    "    \"cysteineFramewrok\",\n",
    "    \"extinctionCoefficient\",\n",
    "    \"geneSuperfamily\",\n",
    "    \"id\",\n",
    "    \"isoelecticPoint\",\n",
    "    # \"linkOut\",\n",
    "    \"monoisotopicMass\",\n",
    "    \"name\",\n",
    "    # \"note\",\n",
    "    \"nucleicAcid\",\n",
    "    \"organismDiet\",\n",
    "    \"organismLatin\",\n",
    "    \"organismRegion\",\n",
    "    \"parentID\",\n",
    "    \"pharmacologicalFamily\",\n",
    "    # \"reference\",\n",
    "    \"sequence\",\n",
    "    \"sequenceEvidence\",\n",
    "    \"sequenceModifications\",\n",
    "    \"sequenceRegions\",\n",
    "]\n",
    "# empty_tag = {tag: pd.NA for tag in tags}"
   ]
  },
  {
   "cell_type": "code",
   "execution_count": 10,
   "metadata": {},
   "outputs": [],
   "source": [
    "class ParseConoserverXML:\n",
    "    def __init__(\n",
    "        self, xml_path: Path, tags: list[str], seq_mod_dict: dict[str, str]\n",
    "    ) -> None:\n",
    "        self.xml_path = xml_path\n",
    "        self.tags = tags\n",
    "        self.seq_mod_dict = seq_mod_dict\n",
    "\n",
    "        self.df = pd.DataFrame({})\n",
    "\n",
    "    def _extract_entry_info(self, entry) -> dict:\n",
    "        entry_data = {tag: pd.NA for tag in self.tags}\n",
    "        for lvl1_elem in entry:\n",
    "            tag = lvl1_elem.tag\n",
    "            if tag == \"alternativeNames\":\n",
    "                data = []\n",
    "                for alt_name in lvl1_elem:\n",
    "                    data.append(alt_name.text)\n",
    "            elif tag == \"nucleicAcid\":\n",
    "                data = []\n",
    "                for nucleic_acid_id in lvl1_elem:\n",
    "                    data.append(nucleic_acid_id.text)\n",
    "            elif tag == \"parentID\":\n",
    "                data = lvl1_elem.text.replace(\" \", \"0\")\n",
    "            elif tag == \"sequenceModifications\":\n",
    "                data = []\n",
    "                for mod in lvl1_elem:\n",
    "                    attrib = mod.attrib\n",
    "                    attrib[\"position\"] = int(attrib[\"position\"])\n",
    "                    data.append(attrib)\n",
    "            elif tag == \"sequenceRegions\":\n",
    "                data = []\n",
    "                for region in lvl1_elem:\n",
    "                    region_dict = {}\n",
    "                    for region_elem in region:\n",
    "                        region_dict[region_elem.tag] = region_elem.text\n",
    "                    data.append(region_dict)\n",
    "            elif tag in [\"linkOut\", \"note\", \"reference\"]:\n",
    "                continue\n",
    "            else:\n",
    "                data = lvl1_elem.text\n",
    "            entry_data[tag] = data\n",
    "        return entry_data\n",
    "\n",
    "    def _adapt_sequences(self, df: pd.DataFrame) -> None:\n",
    "        for idx, row in df.iterrows():\n",
    "            seq = row[\"sequence\"]\n",
    "            # modify the sequrnces from the back to the front\n",
    "            mods = row[\"sequenceModifications\"]\n",
    "            if mods is not pd.NA:\n",
    "                seq = list(seq)\n",
    "                mods = sorted(mods, key=lambda d: d[\"position\"], reverse=True)\n",
    "                for mod in mods:\n",
    "                    aa_pos = mod[\"position\"] - 1\n",
    "                    new_aa = self.seq_mod_dict[mod[\"symbol\"]]\n",
    "                    try:\n",
    "                        seq[aa_pos] = new_aa\n",
    "                    except IndexError:\n",
    "                        if row[\"id\"] in [\"P03694\", \"P06890\"]:\n",
    "                            continue\n",
    "                        raise IndexError\n",
    "                seq = \"\".join(seq)\n",
    "                df.iloc[idx][\"sequence\"] = seq\n",
    "        df.drop(columns=[\"sequenceModifications\"], axis=1, inplace=True)\n",
    "        return df\n",
    "\n",
    "    def fill_data(self, root: ET.Element) -> None:\n",
    "        # TODO: dial with root\n",
    "        all_data = {tag: [] for tag in self.tags}\n",
    "        for idx, entry in enumerate(root):\n",
    "            entry_data = self._extract_entry_info(entry)\n",
    "            for tag, value in entry_data.items():\n",
    "                all_data[tag].append(value)\n",
    "        df = pd.DataFrame(all_data)\n",
    "        df = self._adapt_sequences(df)\n",
    "        df = df[df[\"sequence\"].notnull()]\n",
    "        self.df = df\n",
    "\n",
    "\n",
    "def extract_seq_mod(seq_mods_path: Path) -> dict[str, str]:\n",
    "    df_mod = pd.read_csv(seq_mods_path)\n",
    "    df_mod[\"canonical_aa\"].replace(\"<empty>\", \"\", inplace=True)\n",
    "    df_mod[\"canonical_aa\"].replace(pd.NA, \"X\", inplace=True)\n",
    "    mod_dict = df_mod.set_index(\"symbol\").to_dict()[\"canonical_aa\"]\n",
    "    return mod_dict\n",
    "\n",
    "\n",
    "def df2fasta(df, fasta_path: str, header_col: str, seq_col: str) -> None:\n",
    "    with open(fasta_path, \"w\") as out:\n",
    "        for idx, row in df.iterrows():\n",
    "            out.write(f\">{row['id']}\\n\")\n",
    "            out.write(f\"{row['sequence']}\\n\")\n",
    "\n",
    "\n",
    "seq_mod_dict = extract_seq_mod(seq_mods_path2)\n",
    "parser = ParseConoserverXML(xml_path=xml_new, tags=tags, seq_mod_dict=seq_mod_dict)\n",
    "parser.fill_data(root=root)\n",
    "df2fasta(df=parser.df, fasta_path=fasta_path, header_col=\"id\", seq_col=\"sequence\")"
   ]
  },
  {
   "cell_type": "code",
   "execution_count": 11,
   "metadata": {},
   "outputs": [],
   "source": [
    "df = parser.df\n",
    "df = df.drop(\n",
    "    columns=[\n",
    "        \"alternativeNames\",\n",
    "        \"averageMass\",\n",
    "        \"name\",\n",
    "        \"nucleicAcid\",\n",
    "        # \"sequence\",\n",
    "        \"sequenceRegions\",  # TODO: to implement\n",
    "    ],\n",
    "    axis=1,\n",
    "    # inplace=True,\n",
    ")\n",
    "# integers not working yet\n",
    "# df.drop(\n",
    "#     columns=[\n",
    "#         \"extinctionCoefficient\",\n",
    "#         \"isoelecticPoint\",\n",
    "#         \"monoisotopicMass\",\n",
    "#     ],\n",
    "#     axis=1,\n",
    "#     inplace=True,\n",
    "# )\n",
    "id_col = df.pop(\"id\")\n",
    "df.insert(0, \"id\", id_col)\n",
    "df.to_csv(feature_csv_path, index=False)"
   ]
  },
  {
   "cell_type": "code",
   "execution_count": 12,
   "metadata": {},
   "outputs": [],
   "source": [
    "# pharmacologicalFamily only active part\n",
    "sub_base = Path(\"pharmaFam\")\n",
    "sub_fasta = sub_base / \"pharmaFam.fasta\"\n",
    "sub_feature = sub_base / \"pharmaFam.csv\"\n",
    "subsection = [\"alpha conotoxin\", \"omega conotoxin\", \"mu conotoxin\", \"delta conotoxin\"]\n",
    "df_sub = df[df[\"pharmacologicalFamily\"].isin(subsection)]\n",
    "df_sub.reset_index(drop=True, inplace=True)\n",
    "id_col = df_sub.pop(\"id\")\n",
    "df_sub.insert(0, \"id\", id_col)\n",
    "df2fasta(df=df_sub, fasta_path=sub_fasta, header_col=\"id\", seq_col=\"sequence\")\n",
    "df_sub = df_sub.drop(columns=[\"sequence\"], axis=1)\n",
    "df_sub.to_csv(sub_feature, index=False)"
   ]
  },
  {
   "attachments": {},
   "cell_type": "markdown",
   "metadata": {},
   "source": [
    "## Get signale, mature, and full peptide/protein"
   ]
  },
  {
   "cell_type": "code",
   "execution_count": 13,
   "metadata": {},
   "outputs": [],
   "source": [
    "import numpy as np\n",
    "\n",
    "# get full sequence (aka. signal peptide + active site)\n",
    "dict_prot2mature = {}\n",
    "signal_seqs = {}\n",
    "mature_seqs = {}\n",
    "df = parser.df\n",
    "\n",
    "data = dict()\n",
    "for idx, row in df.iterrows():\n",
    "    seq_regs = row[\"sequenceRegions\"]\n",
    "    if isinstance(seq_regs, list):  # pd.isna(seq_regs):\n",
    "        cur_data = {\n",
    "            key: pd.NA\n",
    "            for key in [\n",
    "                \"id\",\n",
    "                \"full_seq\",\n",
    "                \"signal_seq\",\n",
    "                \"mature_seq\",\n",
    "                \"mature_id\",\n",
    "                \"mature_id_seq\",\n",
    "                \"pharmacologicalFamily\",\n",
    "                \"cysteineFramewrok\",\n",
    "            ]\n",
    "        }\n",
    "        uid = row[\"id\"]\n",
    "        seq = row[\"sequence\"]\n",
    "        cur_data[\"full_seq\"] = seq\n",
    "        for seq_reg in seq_regs:\n",
    "            cur_data[\"id\"] = uid\n",
    "            start, end = int(seq_reg[\"start\"]) - 1, int(seq_reg[\"end\"])\n",
    "            sub_seq = seq[start:end]\n",
    "            if seq_reg[\"type\"] == \"signal sequence\":\n",
    "                cur_data[\"signal_seq\"] = sub_seq\n",
    "                # signal_seqs[uid] = sub_seq\n",
    "            if seq_reg[\"type\"] == \"mature peptide\":\n",
    "                cur_data[\"mature_seq\"] = sub_seq\n",
    "                mature_prot_id = seq_reg.get(\"regionId\", \"\")\n",
    "                cur_data[\"mature_id\"] = mature_prot_id\n",
    "                mature_id_entry = df[df[\"id\"] == mature_prot_id]\n",
    "                # ignore data that has more than 1 mature/active peptide\n",
    "                if len(mature_id_entry) != 1:\n",
    "                    continue\n",
    "                cur_data[\"mature_id_seq\"] = mature_id_entry.iloc[0][\"sequence\"]\n",
    "                cur_data[\"pharmacologicalFamily\"] = mature_id_entry.iloc[0][\n",
    "                    \"pharmacologicalFamily\"\n",
    "                ]\n",
    "                cur_data[\"cysteineFramewrok\"] = mature_id_entry.iloc[0][\n",
    "                    \"cysteineFramewrok\"\n",
    "                ]\n",
    "        for key, value in cur_data.items():\n",
    "            data.setdefault(key, list()).append(value)\n",
    "# df = df.drop(\n",
    "#     columns=[\n",
    "#         \"alternativeNames\",\n",
    "#         \"averageMass\",\n",
    "#         \"name\",\n",
    "#         \"nucleicAcid\",\n",
    "#         \"sequence\",\n",
    "#         \"sequenceRegions\",\n",
    "#     ],\n",
    "#     axis=1,\n",
    "# )"
   ]
  },
  {
   "cell_type": "code",
   "execution_count": 36,
   "metadata": {},
   "outputs": [
    {
     "name": "stdout",
     "output_type": "stream",
     "text": [
      "<class 'pandas.core.frame.DataFrame'>\n",
      "Int64Index: 2833 entries, 0 to 2910\n",
      "Data columns (total 7 columns):\n",
      " #   Column                 Non-Null Count  Dtype \n",
      "---  ------                 --------------  ----- \n",
      " 0   id                     2833 non-null   object\n",
      " 1   full_seq               2833 non-null   object\n",
      " 2   signal_seq             2538 non-null   object\n",
      " 3   mature_seq             2833 non-null   object\n",
      " 4   mature_id              2833 non-null   object\n",
      " 5   mature_id_seq          2807 non-null   object\n",
      " 6   pharmacologicalFamily  153 non-null    object\n",
      "dtypes: object(7)\n",
      "memory usage: 177.1+ KB\n",
      "None\n",
      "full_seq\n",
      "signal_seq\n",
      "mature_seq\n",
      "mature_id_seq\n"
     ]
    }
   ],
   "source": [
    "df_sub = pd.DataFrame(data)\n",
    "# remove sequences that havo no \"mature_seq\" and \"mature_id\"\n",
    "df_sub = df_sub[df_sub[\"mature_id\"].notna()]\n",
    "\n",
    "# some entries miss one of: \"signal_seq\", \"mature_id_seq\", or \"pharmacologicalFamily\"\n",
    "print(df_sub.info())\n",
    "\n",
    "\n",
    "base = Path(\".\")\n",
    "for seq in [\"full_seq\", \"signal_seq\", \"mature_seq\", \"mature_id_seq\"]:\n",
    "    dset_base = base / seq\n",
    "    fasta = dset_base / f\"{seq}.fasta\"\n",
    "    csv = dset_base / f\"{seq}.csv\"\n",
    "    if not dset_base.is_dir():\n",
    "        print(seq)\n",
    "        dset_base.mkdir()\n",
    "    with open(fasta, \"w\") as out:\n",
    "        for idx, row in df_sub.iterrows():\n",
    "            out.write(f\">{row['id']}\\n\")\n",
    "            out.write(f\"{row[seq]}\\n\")\n",
    "# df_m = df_m[\n",
    "#     df_m[\"mature_id_seq\"].notna() & (df_m[\"mature_id_seq\"] != df_m[\"mature_seq\"])\n",
    "# ]\n",
    "# df_m.apply(\n",
    "#     lambda row: sum(a != b for a, b in zip(row[\"mature_seq\"], row[\"mature_id_seq\"])),\n",
    "#     axis=1,\n",
    "# )"
   ]
  },
  {
   "cell_type": "code",
   "execution_count": 32,
   "metadata": {},
   "outputs": [
    {
     "name": "stdout",
     "output_type": "stream",
     "text": [
      "<class 'pandas.core.frame.DataFrame'>\n",
      "Int64Index: 2833 entries, 0 to 2910\n",
      "Data columns (total 7 columns):\n",
      " #   Column                 Non-Null Count  Dtype \n",
      "---  ------                 --------------  ----- \n",
      " 0   id                     2833 non-null   object\n",
      " 1   full_seq               2833 non-null   object\n",
      " 2   signal_seq             2538 non-null   object\n",
      " 3   mature_seq             2833 non-null   object\n",
      " 4   mature_id              2833 non-null   object\n",
      " 5   mature_id_seq          2807 non-null   object\n",
      " 6   pharmacologicalFamily  153 non-null    object\n",
      "dtypes: object(7)\n",
      "memory usage: 177.1+ KB\n"
     ]
    }
   ],
   "source": [
    "df_sub = pd.DataFrame(data)\n",
    "# remove sequences that havo no \"mature_seq\" and \"mature_id\"\n",
    "df_sub = df_sub[df_sub[\"mature_id\"].notna()]\n",
    "\n",
    "df_sub.info()"
   ]
  },
  {
   "cell_type": "code",
   "execution_count": 27,
   "metadata": {},
   "outputs": [
    {
     "data": {
      "text/plain": [
       "78"
      ]
     },
     "execution_count": 27,
     "metadata": {},
     "output_type": "execute_result"
    }
   ],
   "source": [
    "df_m[\"mature_id\"].isna().sum()"
   ]
  },
  {
   "cell_type": "code",
   "execution_count": null,
   "metadata": {},
   "outputs": [],
   "source": []
  },
  {
   "cell_type": "code",
   "execution_count": null,
   "metadata": {},
   "outputs": [],
   "source": []
  },
  {
   "cell_type": "code",
   "execution_count": 15,
   "metadata": {},
   "outputs": [],
   "source": [
    "# save signal peptide\n",
    "name = \"signal\"\n",
    "base_path = Path(name)\n",
    "if not base_path.is_dir():\n",
    "    base_path.mkdir()\n",
    "fasta_path = base_path / f\"{name}.fasta\"\n",
    "csv_path = base_path / f\"{name}.csv\"\n",
    "\n",
    "with open(fasta_path, \"w\") as out:\n",
    "    for uid, signal_seq in signal_seqs.items():\n",
    "        out.write(f\">{uid}\\n\")\n",
    "        out.write(f\"{signal_seq}\\n\")\n",
    "\n",
    "df_tmp = df[df[\"id\"].isin(list(signal_seqs.keys()))]\n",
    "id_col = df_tmp.pop(\"id\")\n",
    "df_tmp.insert(0, \"id\", id_col)\n",
    "df_tmp.to_csv(csv_path, index=False)"
   ]
  },
  {
   "cell_type": "code",
   "execution_count": 16,
   "metadata": {},
   "outputs": [],
   "source": [
    "# save mature peptide\n",
    "name = \"mature\"\n",
    "base_path = Path(name)\n",
    "if not base_path.is_dir():\n",
    "    base_path.mkdir()\n",
    "fasta_path = base_path / f\"{name}.fasta\"\n",
    "csv_path = base_path / f\"{name}.csv\"\n",
    "\n",
    "uids = []\n",
    "with open(fasta_path, \"w\") as out:\n",
    "    for uid, mature_seq in mature_seqs.items():\n",
    "        full_prot_id, mature_id = uid.split(\"_\")\n",
    "        uids.append(mature_id)\n",
    "        out.write(f\">{full_prot_id}\\n\")\n",
    "        out.write(f\"{mature_seq}\\n\")\n",
    "\n",
    "df_tmp = df[df[\"id\"].isin(uids)]\n",
    "id_col = df_tmp.pop(\"id\")\n",
    "df_tmp.insert(0, \"id\", id_col)\n",
    "df_tmp.to_csv(csv_path, index=False)"
   ]
  },
  {
   "cell_type": "code",
   "execution_count": 20,
   "metadata": {},
   "outputs": [
    {
     "data": {
      "text/plain": [
       "[]"
      ]
     },
     "execution_count": 20,
     "metadata": {},
     "output_type": "execute_result"
    }
   ],
   "source": [
    "uids"
   ]
  },
  {
   "attachments": {},
   "cell_type": "markdown",
   "metadata": {},
   "source": [
    "## TODO\n",
    "- check if parentID tree can be constructed"
   ]
  },
  {
   "cell_type": "code",
   "execution_count": 137,
   "metadata": {},
   "outputs": [
    {
     "name": "stdout",
     "output_type": "stream",
     "text": [
      "['P00001', 'P00004', 'P00010', 'P00015', 'P00023', 'P00026', 'P00032', 'P00039', 'P00050', 'P00051', 'P00074', 'P00095', 'P00098', 'P00099', 'P00405', 'P00595', 'P00840', 'P01309', 'P01338', 'P01356', 'P01372', 'P01384', 'P01386', 'P01397', 'P01537', 'P01546', 'P01556', 'P01571', 'P01594', 'P01611', 'P01615', 'P01616', 'P01634', 'P01737', 'P01793', 'P02228', 'P02485', 'P02520', 'P02539', 'P02549', 'P02576', 'P02585', 'P02586', 'P02587', 'P02588', 'P02591', 'P02594', 'P02608', 'P02665', 'P02707', 'P02752', 'P02835', 'P02881', 'P02901', 'P03625', 'P03641', 'P03752', 'P03901', 'P03906', 'P04480', 'P04622', 'P04661', 'P05344', 'P05345', 'P05840', 'P05841', 'P05949', 'P06614', 'P06615', 'P06732', 'P06776', 'P06810', 'P06814', 'P06822', 'P06831', 'P06858', 'P06897', 'P06934', 'P06935', 'P07401', 'P07403', 'P07410', 'P07434', 'P07466', 'P07480', 'P07497', 'P07646', 'P08412', 'P08506', 'P08508', 'P08686', 'P08893', 'P08896', 'P08909', 'P08991', 'P09000', 'P09015', 'P10267', 'P10407', 'P10418', 'P10430', 'P10445']\n"
     ]
    }
   ],
   "source": [
    "print(sorted(list(df[\"parentID\"].value_counts().index)))"
   ]
  }
 ],
 "metadata": {
  "kernelspec": {
   "display_name": "Python 3.9.13 ('protspace3d')",
   "language": "python",
   "name": "python3"
  },
  "language_info": {
   "codemirror_mode": {
    "name": "ipython",
    "version": 3
   },
   "file_extension": ".py",
   "mimetype": "text/x-python",
   "name": "python",
   "nbconvert_exporter": "python",
   "pygments_lexer": "ipython3",
   "version": "3.9.13"
  },
  "orig_nbformat": 4,
  "vscode": {
   "interpreter": {
    "hash": "f967f6acf9417b335e0267c1a18089754f7cfe4000dd5b5afc6f7bca3da22610"
   }
  }
 },
 "nbformat": 4,
 "nbformat_minor": 2
}
