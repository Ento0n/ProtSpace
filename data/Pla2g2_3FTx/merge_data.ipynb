{
 "cells": [
  {
   "cell_type": "code",
   "execution_count": 15,
   "metadata": {},
   "outputs": [],
   "source": [
    "import h5py\n",
    "from pyfaidx import Fasta\n",
    "from pathlib import Path\n",
    "import pandas as pd"
   ]
  },
  {
   "cell_type": "code",
   "execution_count": 28,
   "metadata": {},
   "outputs": [],
   "source": [
    "fasta_1 = \"../../data/3FTx/3FTx_mapped.fasta\"\n",
    "fasta_2 = \"../../data/Pla2g2/Pla2g2.fasta\"\n",
    "\n",
    "emb_prott5_1 = \"../../data/3FTx/emb_prott5.h5\"\n",
    "emb_prott5_2 = \"../../data/Pla2g2/emb_prott5.h5\"\n",
    "emb_esm2_1 = \"../../data/3FTx/emb_esm2.h5\"\n",
    "emb_esm2_2 = \"../../data/Pla2g2/emb_esm2.h5\"\n",
    "\n",
    "out_dir = Path(\"../../data/Pla2g2_3FTx/\")\n",
    "out_fasta = out_dir / \"seq.fasta\"\n",
    "out_csv = out_dir / \"features.csv\"\n",
    "out_emb_esm2 = out_dir / \"emb_esm2.h5\"\n",
    "out_emb_prott5 = out_dir / \"emb_prott5.h5\""
   ]
  },
  {
   "cell_type": "markdown",
   "metadata": {},
   "source": [
    "# Sequences FASTA"
   ]
  },
  {
   "cell_type": "code",
   "execution_count": 20,
   "metadata": {},
   "outputs": [],
   "source": [
    "f1 = Fasta(fasta_1)\n",
    "f2 = Fasta(fasta_2)\n",
    "\n",
    "csv_data = []\n",
    "with open(out_fasta, \"w\") as handler:\n",
    "    for header, seq in f1.items():\n",
    "        handler.write(f\">{header}\\n\")\n",
    "        handler.write(f\"{seq}\\n\")\n",
    "        csv_data.append([header, \"3FTx\"])\n",
    "    for header, seq in f2.items():\n",
    "        handler.write(f\">{header}\\n\")\n",
    "        handler.write(f\"{seq}\\n\")\n",
    "        csv_data.append([header, \"Pla2g2\"])"
   ]
  },
  {
   "cell_type": "markdown",
   "metadata": {},
   "source": [
    "# Feature CSV"
   ]
  },
  {
   "cell_type": "code",
   "execution_count": 23,
   "metadata": {},
   "outputs": [],
   "source": [
    "df = pd.DataFrame(csv_data, columns=[\"uid\", \"dset\"])\n",
    "df.to_csv(out_csv, index=False)"
   ]
  },
  {
   "cell_type": "markdown",
   "metadata": {},
   "source": [
    "# Embeddings H5"
   ]
  },
  {
   "cell_type": "code",
   "execution_count": 32,
   "metadata": {},
   "outputs": [],
   "source": [
    "import numpy as np"
   ]
  },
  {
   "cell_type": "code",
   "execution_count": 44,
   "metadata": {},
   "outputs": [],
   "source": [
    "emb_data = {}\n",
    "\n",
    "with (\n",
    "    h5py.File(emb_prott5_1, \"r\") as hdf_t5_1,\n",
    "    h5py.File(emb_prott5_2, \"r\") as hdf_t5_2,\n",
    "    h5py.File(emb_esm2_1, \"r\") as hdf_esm_1,\n",
    "    h5py.File(emb_esm2_2, \"r\") as hdf_esm_2,\n",
    "    h5py.File(out_emb_prott5, \"w\") as out_t5,\n",
    "    h5py.File(out_emb_esm2, \"w\") as out_esm2,\n",
    "    ):\n",
    "    for header, emb in hdf_t5_1.items():\n",
    "        out_t5.create_dataset(name=header, data=emb)\n",
    "    for header, emb in hdf_t5_2.items():\n",
    "        out_t5.create_dataset(name=header, data=emb)\n",
    "    for header, emb in hdf_esm_1.items():\n",
    "        out_esm2.create_dataset(name=header, data=emb)\n",
    "    for header, emb in hdf_esm_2.items():\n",
    "        out_esm2.create_dataset(name=header, data=emb)"
   ]
  },
  {
   "cell_type": "code",
   "execution_count": 43,
   "metadata": {},
   "outputs": [],
   "source": [
    "with (\n",
    "    h5py.File(out_emb_prott5, \"r\") as out_t5,\n",
    "    h5py.File(out_emb_esm2, \"r\") as out_esm2,\n",
    "    ):\n",
    "    for header, emb in out_t5.items():\n",
    "        if emb.shape == (2560,):\n",
    "            print(emb)\n",
    "            break\n",
    "    for header, emb in out_esm2.items():\n",
    "        if emb.shape != (2560,):\n",
    "            print(emb)\n",
    "            break\n",
    "        # print(header, emb)\n",
    "        # print(emb.shape)\n",
    "        # break"
   ]
  },
  {
   "cell_type": "code",
   "execution_count": null,
   "metadata": {},
   "outputs": [],
   "source": []
  }
 ],
 "metadata": {
  "kernelspec": {
   "display_name": "Python 3.9.13 ('protspace3d')",
   "language": "python",
   "name": "python3"
  },
  "language_info": {
   "codemirror_mode": {
    "name": "ipython",
    "version": 3
   },
   "file_extension": ".py",
   "mimetype": "text/x-python",
   "name": "python",
   "nbconvert_exporter": "python",
   "pygments_lexer": "ipython3",
   "version": "3.9.13"
  },
  "orig_nbformat": 4,
  "vscode": {
   "interpreter": {
    "hash": "f967f6acf9417b335e0267c1a18089754f7cfe4000dd5b5afc6f7bca3da22610"
   }
  }
 },
 "nbformat": 4,
 "nbformat_minor": 2
}
