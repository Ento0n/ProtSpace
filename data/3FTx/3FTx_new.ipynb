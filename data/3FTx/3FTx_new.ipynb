{
 "cells": [
  {
   "attachments": {},
   "cell_type": "markdown",
   "metadata": {},
   "source": [
    "# ToDo\n",
    "- [x] get representatives in data\n",
    "- [x] ideam is the same as previous entry\n",
    "- [x] get prot seqs from UniProt (API call)\n",
    "- [x] clean up Pevious FASTA file\n",
    "- [x] combine results with previous FASTA\n",
    "- [x] check for duplicate sequences\n",
    "- [x] extract UniProtID from old CSV and put in new column\n",
    "- [ ] check for duplicates between both dsets\n",
    "- [ ] merge CSV files\n",
    "- [ ] create feature file for protspace3D\n",
    "- [ ] show results in ProtSpace3D (separate those by others)\n",
    "- [ ] Split by this group\n",
    "- [ ] highlight representative\n",
    "- [ ] only look at french data separatelly"
   ]
  },
  {
   "cell_type": "code",
   "execution_count": 1,
   "metadata": {},
   "outputs": [
    {
     "data": {
      "text/html": [
       "\n",
       "                <script type=\"application/javascript\" id=\"jupyter_black\">\n",
       "                (function() {\n",
       "                    if (window.IPython === undefined) {\n",
       "                        return\n",
       "                    }\n",
       "                    var msg = \"WARNING: it looks like you might have loaded \" +\n",
       "                        \"jupyter_black in a non-lab notebook with \" +\n",
       "                        \"`is_lab=True`. Please double check, and if \" +\n",
       "                        \"loading with `%load_ext` please review the README!\"\n",
       "                    console.log(msg)\n",
       "                    alert(msg)\n",
       "                })()\n",
       "                </script>\n",
       "                "
      ],
      "text/plain": [
       "<IPython.core.display.HTML object>"
      ]
     },
     "metadata": {},
     "output_type": "display_data"
    }
   ],
   "source": [
    "import jupyter_black\n",
    "\n",
    "jupyter_black.load()"
   ]
  },
  {
   "cell_type": "code",
   "execution_count": 1,
   "metadata": {},
   "outputs": [],
   "source": [
    "%load_ext autoreload\n",
    "%autoreload 2"
   ]
  },
  {
   "attachments": {},
   "cell_type": "markdown",
   "metadata": {},
   "source": [
    "## Prepare data"
   ]
  },
  {
   "cell_type": "code",
   "execution_count": 428,
   "metadata": {},
   "outputs": [
    {
     "name": "stdout",
     "output_type": "stream",
     "text": [
      "- found UIDs: 626\n",
      "- unknown UIDs: 331\n"
     ]
    },
    {
     "name": "stderr",
     "output_type": "stream",
     "text": [
      "BLAST: 100%|██████████| 957/957 [00:00<00:00, 90549.05it/s]\n"
     ]
    },
    {
     "data": {
      "text/html": [
       "<div>\n",
       "<style scoped>\n",
       "    .dataframe tbody tr th:only-of-type {\n",
       "        vertical-align: middle;\n",
       "    }\n",
       "\n",
       "    .dataframe tbody tr th {\n",
       "        vertical-align: top;\n",
       "    }\n",
       "\n",
       "    .dataframe thead th {\n",
       "        text-align: right;\n",
       "    }\n",
       "</style>\n",
       "<table border=\"1\" class=\"dataframe\">\n",
       "  <thead>\n",
       "    <tr style=\"text-align: right;\">\n",
       "      <th></th>\n",
       "      <th>fasta_id</th>\n",
       "      <th>cystein_group</th>\n",
       "      <th>evolutionary_order</th>\n",
       "      <th>major_group</th>\n",
       "      <th>major_taxon</th>\n",
       "      <th>name</th>\n",
       "      <th>species</th>\n",
       "      <th>seq</th>\n",
       "      <th>taxon_id</th>\n",
       "      <th>acc_id</th>\n",
       "      <th>db</th>\n",
       "      <th>data_origin</th>\n",
       "    </tr>\n",
       "  </thead>\n",
       "  <tbody>\n",
       "    <tr>\n",
       "      <th>0</th>\n",
       "      <td>Cbivi_3FTx_000</td>\n",
       "      <td>Basal</td>\n",
       "      <td>3.0</td>\n",
       "      <td>3FTx</td>\n",
       "      <td>Elapidae</td>\n",
       "      <td>-</td>\n",
       "      <td>Calliophis bivirgatus</td>\n",
       "      <td>LLCRKCNRTVCDLNANCAAGENQCYIVQNKNDTTGRSAIQGCTATC...</td>\n",
       "      <td>8633</td>\n",
       "      <td>A0A898IJN7</td>\n",
       "      <td>TR</td>\n",
       "      <td>NaN</td>\n",
       "    </tr>\n",
       "    <tr>\n",
       "      <th>2</th>\n",
       "      <td>Boiga_nigriceps_GGUF01000001</td>\n",
       "      <td>Weird</td>\n",
       "      <td>6.0</td>\n",
       "      <td>3FTx</td>\n",
       "      <td>Colubridae</td>\n",
       "      <td>-</td>\n",
       "      <td>Boiga nigriceps</td>\n",
       "      <td>IICHSCTGRLCTTFQNCPDAQACSQMWKDSDLLKLNIVKGCATNCT...</td>\n",
       "      <td>1867089</td>\n",
       "      <td>A0A6G1S2N1</td>\n",
       "      <td>TR</td>\n",
       "      <td>NaN</td>\n",
       "    </tr>\n",
       "  </tbody>\n",
       "</table>\n",
       "</div>"
      ],
      "text/plain": [
       "                       fasta_id cystein_group  evolutionary_order major_group  \\\n",
       "0                Cbivi_3FTx_000         Basal                 3.0        3FTx   \n",
       "2  Boiga_nigriceps_GGUF01000001         Weird                 6.0        3FTx   \n",
       "\n",
       "  major_taxon name                species  \\\n",
       "0    Elapidae    -  Calliophis bivirgatus   \n",
       "2  Colubridae    -        Boiga nigriceps   \n",
       "\n",
       "                                                 seq  taxon_id      acc_id  \\\n",
       "0  LLCRKCNRTVCDLNANCAAGENQCYIVQNKNDTTGRSAIQGCTATC...      8633  A0A898IJN7   \n",
       "2  IICHSCTGRLCTTFQNCPDAQACSQMWKDSDLLKLNIVKGCATNCT...   1867089  A0A6G1S2N1   \n",
       "\n",
       "   db data_origin  \n",
       "0  TR         NaN  \n",
       "2  TR         NaN  "
      ]
     },
     "execution_count": 428,
     "metadata": {},
     "output_type": "execute_result"
    }
   ],
   "source": [
    "import importlib\n",
    "from pathlib import Path\n",
    "import pandas as pd\n",
    "\n",
    "import dset_3FTx\n",
    "import uniprot_helper\n",
    "\n",
    "# importlib.reload(dset_3FTx)\n",
    "# importlib.reload(uniprot_helper)\n",
    "\n",
    "base = Path(\".\")\n",
    "fasta_in = base / \"raw\" / \"3and6_new.fasta\"  # \"3and6_current_alignment.fasta\"\n",
    "csv_in = base / \"raw\" / \"Ivan_3FTx.csv\"  # \"SM_table.csv\"\n",
    "fasta_out = base / \"3FTx.fasta\"\n",
    "csv_out = base / \"3FTx.csv\"\n",
    "taxon_mapper_file = Path(\"raw/taxon_mapper.json\")\n",
    "blast_dir = Path(\"blast_out\")\n",
    "\n",
    "df = dset_3FTx.construct_df(csv_path=csv_in, fasta_path=fasta_in)\n",
    "df = dset_3FTx.add_taxon_id(df=df, taxon_mapper_file=taxon_mapper_file)\n",
    "df = dset_3FTx.get_uniprot_acc_ids(df=df)\n",
    "df = dset_3FTx.run_blast(df=df, blast_dir=blast_dir)\n",
    "df = dset_3FTx.manual_curation(df=df)\n",
    "df = df.dropna(subset=\"db\")\n",
    "dset_3FTx.save_data(df=df, csv_file=csv_out, fasta_file=fasta_out)\n",
    "df.head(2)"
   ]
  },
  {
   "attachments": {},
   "cell_type": "markdown",
   "metadata": {},
   "source": [
    "## Statistics"
   ]
  },
  {
   "cell_type": "code",
   "execution_count": 368,
   "metadata": {},
   "outputs": [],
   "source": [
    "def copy_df(df):\n",
    "    df.index = df.index.fillna(\"NA\")\n",
    "    pd.io.clipboards.to_clipboard(df.to_markdown(), excel=False)\n",
    "    print(df)"
   ]
  },
  {
   "cell_type": "code",
   "execution_count": 374,
   "metadata": {},
   "outputs": [
    {
     "name": "stdout",
     "output_type": "stream",
     "text": [
      "SP    462\n",
      "TR    318\n",
      "NA    174\n",
      "Name: db, dtype: int64\n"
     ]
    }
   ],
   "source": [
    "# Entries found in UniProt\n",
    "res = df[\"db\"].value_counts(dropna=False)\n",
    "copy_df(df=res)"
   ]
  },
  {
   "cell_type": "code",
   "execution_count": 372,
   "metadata": {},
   "outputs": [
    {
     "name": "stdout",
     "output_type": "stream",
     "text": [
      "1.0    741\n",
      "NA     173\n",
      "2.0     29\n",
      "3.0      9\n",
      "5.0      2\n",
      "Name: acc_id, dtype: int64\n"
     ]
    }
   ],
   "source": [
    "# number of UniProt accession IDs with a 100% sequence match\n",
    "res = df[\"acc_id\"].str.split(\",\").str.len().value_counts(dropna=False)\n",
    "copy_df(df=res)"
   ]
  },
  {
   "cell_type": "code",
   "execution_count": 373,
   "metadata": {},
   "outputs": [
    {
     "name": "stdout",
     "output_type": "stream",
     "text": [
      "TR    78\n",
      "NA    61\n",
      "SP    13\n",
      "Name: db, dtype: int64\n"
     ]
    }
   ],
   "source": [
    "# entries that come from genomic that found a 100% match in UniProt\n",
    "res = df.loc[df[\"data_origin\"] == \"genomic\", \"db\"].value_counts(dropna=False)\n",
    "copy_df(df=res)"
   ]
  },
  {
   "attachments": {},
   "cell_type": "markdown",
   "metadata": {},
   "source": [
    "## Get UniProt sequence"
   ]
  },
  {
   "cell_type": "code",
   "execution_count": 424,
   "metadata": {},
   "outputs": [],
   "source": [
    "data = []\n",
    "for idx, row in df.iterrows():\n",
    "    if row[\"acc_id\"] is None:\n",
    "        continue\n",
    "    acc_ids = row[\"acc_id\"].split(\",\")\n",
    "    for acc_id in acc_ids:\n",
    "        row = row.copy()\n",
    "        response = uniprot_helper.get_uniprot_entry(acc_id=acc_id, format_type=\"json\")\n",
    "        response = response.json()\n",
    "        row[\"acc_id\"] = acc_id\n",
    "        row[\"seq\"] = response[\"sequence\"][\"value\"]\n",
    "        row[\"prot_evi\"] = response[\"proteinExistence\"]\n",
    "        row[\"annot_score\"] = response[\"annotationScore\"]\n",
    "        data.append(row)"
   ]
  },
  {
   "cell_type": "code",
   "execution_count": 447,
   "metadata": {},
   "outputs": [],
   "source": [
    "new_df = pd.DataFrame(data)\n",
    "\n",
    "col_data = new_df.pop(\"acc_id\")\n",
    "new_df.insert(loc=0, column=\"acc_id\", value=col_data)\n",
    "\n",
    "csv_file = Path(\"../3FTx_full/3FTx.csv\")\n",
    "fasta_file = Path(\"../3FTx_full/3FTx.fasta\")\n",
    "new_df.to_csv(csv_file, index=False)\n",
    "with open(fasta_file, \"w\") as fasta_handler:\n",
    "    for _, row in new_df.iterrows():\n",
    "        fasta_handler.write(f\">{row['acc_id']}\\n\")\n",
    "        fasta_handler.write(f\"{row['seq']}\\n\")\n",
    "\n",
    "\n",
    "import h5py\n",
    "esm = \"../3FTx_full/3FTx_esm2.h5\"\n",
    "esm_h5 = \"../3FTx_full/3FTx_esm2_.h5\"\n",
    "csv_ = \"../3FTx_full/3FTx_.csv\"\n",
    "id_tracker = dict()\n",
    "with h5py.File(esm, \"r\") as hdf, h5py.File(esm_h5, \"w\") as hdf_new:\n",
    "    for uid, emb in hdf.items():\n",
    "        fasta_id = new_df.loc[new_df[\"acc_id\"] == uid, \"fasta_id\"].values[0]\n",
    "        id_tracker[fasta_id] = id_tracker.setdefault(fasta_id, 0) + 1\n",
    "        fasta_id = f\"{fasta_id}_{id_tracker[fasta_id]}\"\n",
    "        new_df.loc[new_df[\"acc_id\"] == uid, \"fasta_id\"] = fasta_id\n",
    "        hdf_new.create_dataset(name=fasta_id, data=emb)\n",
    "\n",
    "col_data = new_df.pop(\"fasta_id\")\n",
    "new_df.insert(loc=0, column=\"fasta_id\", value=col_data)\n",
    "new_df.to_csv(csv_, index=False)"
   ]
  },
  {
   "cell_type": "code",
   "execution_count": 446,
   "metadata": {},
   "outputs": [],
   "source": []
  },
  {
   "attachments": {},
   "cell_type": "markdown",
   "metadata": {},
   "source": [
    "## Add french data"
   ]
  },
  {
   "cell_type": "code",
   "execution_count": null,
   "metadata": {},
   "outputs": [],
   "source": [
    "xml_french = Path(\"raw/3FTs vs receptor dec12.xlsx\")"
   ]
  },
  {
   "cell_type": "code",
   "execution_count": 3,
   "metadata": {},
   "outputs": [],
   "source": [
    "import pandas as pd\n",
    "import requests\n",
    "from pyfaidx import Fasta\n",
    "from pathlib import Path\n",
    "\n",
    "base = Path(\".\")\n",
    "fasta_old_path = base / \"raw\" / \"3and6_new.fasta\"  # \"3and6_current_alignment.fasta\"\n",
    "csv_old_path = base / \"raw\" / \"Ivan_3FTx.csv\"  # \"SM_table.csv\"\n",
    "csv_new_path = base / \"raw\" / \"3FTs vs receptor dec12.xlsx\"\n",
    "fasta_new_path = base / \"raw\" / \"tmp.fasta\"\n",
    "\n",
    "fasta_final = base / \"3FTx.fasta\"\n",
    "csv_final = base / \"3FTx.csv\""
   ]
  },
  {
   "attachments": {},
   "cell_type": "markdown",
   "metadata": {},
   "source": [
    "## Read in new data (from french guys)"
   ]
  },
  {
   "cell_type": "code",
   "execution_count": 4,
   "metadata": {},
   "outputs": [
    {
     "name": "stderr",
     "output_type": "stream",
     "text": [
      "/usr/local/anaconda3/envs/protspace3d/lib/python3.9/site-packages/openpyxl/worksheet/_reader.py:312: UserWarning: Unknown extension is not supported and will be removed\n",
      "  warn(msg)\n"
     ]
    },
    {
     "data": {
      "text/html": [
       "<div>\n",
       "<style scoped>\n",
       "    .dataframe tbody tr th:only-of-type {\n",
       "        vertical-align: middle;\n",
       "    }\n",
       "\n",
       "    .dataframe tbody tr th {\n",
       "        vertical-align: top;\n",
       "    }\n",
       "\n",
       "    .dataframe thead th {\n",
       "        text-align: right;\n",
       "    }\n",
       "</style>\n",
       "<table border=\"1\" class=\"dataframe\">\n",
       "  <thead>\n",
       "    <tr style=\"text-align: right;\">\n",
       "      <th></th>\n",
       "      <th>Uniprot #</th>\n",
       "      <th>Entry</th>\n",
       "      <th>Name</th>\n",
       "      <th>Venom</th>\n",
       "      <th>Receptor</th>\n",
       "      <th>Subtype specificity</th>\n",
       "      <th>Activity</th>\n",
       "      <th>Alternative names</th>\n",
       "      <th>Number of CC bonds</th>\n",
       "      <th>PDB code</th>\n",
       "      <th>Referent</th>\n",
       "      <th>Groups</th>\n",
       "      <th>Representative</th>\n",
       "    </tr>\n",
       "  </thead>\n",
       "  <tbody>\n",
       "    <tr>\n",
       "      <th>0</th>\n",
       "      <td>P0C1Y9</td>\n",
       "      <td>3SE1_DENAN</td>\n",
       "      <td>Fasciculin 1</td>\n",
       "      <td>Dendroaspis angusticeps</td>\n",
       "      <td>Acetylcholinesterase (AChE)</td>\n",
       "      <td>NaN</td>\n",
       "      <td>Allosteric inhibitor</td>\n",
       "      <td>Fas1, Fasciculin-I , Fas-I,</td>\n",
       "      <td>4</td>\n",
       "      <td>1FAS</td>\n",
       "      <td>Pascale</td>\n",
       "      <td>1.0</td>\n",
       "      <td>False</td>\n",
       "    </tr>\n",
       "    <tr>\n",
       "      <th>1</th>\n",
       "      <td>P0C1Z0</td>\n",
       "      <td>3SE2_DENAN</td>\n",
       "      <td>Fasciculin 2</td>\n",
       "      <td>Dendroaspis angusticeps</td>\n",
       "      <td>Acetylcholinesterase (AChE)</td>\n",
       "      <td>NaN</td>\n",
       "      <td>Allosteric inhibitor</td>\n",
       "      <td>Fas2, Fasciculin-II , Fas-II, toxin F-VII</td>\n",
       "      <td>4</td>\n",
       "      <td>1FSC</td>\n",
       "      <td>Pascale</td>\n",
       "      <td>1.0</td>\n",
       "      <td>True</td>\n",
       "    </tr>\n",
       "  </tbody>\n",
       "</table>\n",
       "</div>"
      ],
      "text/plain": [
       "  Uniprot #       Entry          Name                    Venom  \\\n",
       "0    P0C1Y9  3SE1_DENAN  Fasciculin 1  Dendroaspis angusticeps   \n",
       "1    P0C1Z0  3SE2_DENAN  Fasciculin 2  Dendroaspis angusticeps   \n",
       "\n",
       "                      Receptor Subtype specificity              Activity  \\\n",
       "0  Acetylcholinesterase (AChE)                 NaN  Allosteric inhibitor   \n",
       "1  Acetylcholinesterase (AChE)                 NaN  Allosteric inhibitor   \n",
       "\n",
       "                           Alternative names Number of CC bonds PDB code  \\\n",
       "0                Fas1, Fasciculin-I , Fas-I,                  4     1FAS   \n",
       "1  Fas2, Fasciculin-II , Fas-II, toxin F-VII                  4     1FSC   \n",
       "\n",
       "  Referent  Groups  Representative  \n",
       "0  Pascale     1.0           False  \n",
       "1  Pascale     1.0            True  "
      ]
     },
     "execution_count": 4,
     "metadata": {},
     "output_type": "execute_result"
    }
   ],
   "source": [
    "df = pd.read_excel(csv_new_path)\n",
    "df = df[df[\"Groups\"].notna()]\n",
    "df = df.drop(columns=\"SwissProt #\")\n",
    "df = df.reset_index(drop=True)\n",
    "df.loc[df[\"Representative\"].isna(), \"Representative\"] = False\n",
    "df.loc[df[\"Representative\"] == 1.0, \"Representative\"] = True\n",
    "df[\"Representative\"] = df[\"Representative\"].astype(bool)\n",
    "df_new = df.copy()\n",
    "df_new.head(2)"
   ]
  },
  {
   "attachments": {},
   "cell_type": "markdown",
   "metadata": {},
   "source": [
    "### Get sequences with UniProt Identifier"
   ]
  },
  {
   "cell_type": "code",
   "execution_count": 5,
   "metadata": {},
   "outputs": [
    {
     "name": "stdout",
     "output_type": "stream",
     "text": [
      "['Neurotoxin II' 'Muscarinic toxin 5' 'FS2']\n"
     ]
    }
   ],
   "source": [
    "# entry names with no UniprotID\n",
    "na_row_names = df_new.loc[df_new[\"Uniprot #\"].isna(), \"Name\"].values\n",
    "print(na_row_names)\n",
    "\n",
    "# drop rows with NA UniprotID\n",
    "df_new = df_new.loc[df_new[\"Uniprot #\"].notna()]"
   ]
  },
  {
   "cell_type": "code",
   "execution_count": 6,
   "metadata": {},
   "outputs": [],
   "source": [
    "# List of Uniprot identifiers\n",
    "uniprot_ids = df_new[\"Uniprot #\"].values\n",
    "\n",
    "# Set the URL for the request\n",
    "url = (\n",
    "    \"https://rest.uniprot.org/uniprotkb/stream?compressed=false&format=fasta&query=\"\n",
    "    + \"%20OR%20\".join(uniprot_ids)\n",
    ")\n",
    "\n",
    "# Send the request to Uniprot\n",
    "response = requests.get(url).text"
   ]
  },
  {
   "cell_type": "code",
   "execution_count": 7,
   "metadata": {},
   "outputs": [],
   "source": [
    "# save response to FASTA file\n",
    "seq, header = \"\", \"\"\n",
    "flag = False\n",
    "with open(fasta_new_path, \"w\") as out:\n",
    "    for line in response.split(\"\\n\"):\n",
    "        line = line.strip()\n",
    "        if line.startswith(\">\"):\n",
    "            if seq and flag:\n",
    "                out.write(f\"{seq}\\n\")\n",
    "            header = line.split(\"|\")[1]\n",
    "            if header in uniprot_ids:\n",
    "                flag = True\n",
    "                out.write(f\">{header}\\n\")\n",
    "                seq = \"\"\n",
    "            else:\n",
    "                flag = False\n",
    "        elif flag:\n",
    "            seq += line\n",
    "    if flag:\n",
    "        out.write(f\"{seq}\\n\")"
   ]
  },
  {
   "attachments": {},
   "cell_type": "markdown",
   "metadata": {},
   "source": [
    "## Read-in and parse old data"
   ]
  },
  {
   "attachments": {},
   "cell_type": "markdown",
   "metadata": {},
   "source": [
    "- remove `>` from Alphabet column\n",
    "- remove entries having `snake genomics` in column `Major group`\n",
    "- remove columns with predictions\n",
    "- extract Uniprot ID (what is possible)\n",
    "- add protein sequence to CSV file\n",
    "  - sequences \"AAAAAAAAKU\" and \"AAAAAAAAKT\" have no entries in the CSV file?\n",
    "\n",
    "\n",
    "<!-- - extract sews Figure 1 (3C): https://click.endnote.com/viewer?doi=10.1096%2Ffba.1027&token=WzEzMzUzNzAsIjEwLjEwOTYvZmJhLjEwMjciXQ.P2pjnkkZxmPJrOo-8_f_xWlyKvk\n",
    "(Long-chain) -->"
   ]
  },
  {
   "attachments": {},
   "cell_type": "markdown",
   "metadata": {},
   "source": [
    "### BLAST in UniProt - results 100% match"
   ]
  },
  {
   "attachments": {},
   "cell_type": "markdown",
   "metadata": {},
   "source": [
    "TODO:\n",
    "- [ ] from all three FASTA files extract all headers, sequences, and taxas\n",
    "  - [ ] check for duplicated headers\n",
    "  - [ ] check for duplicated sequences\n",
    "- [ ] Get all UniProt IDs\n",
    "  - [ ] extract UniProt IDs from header\n",
    "  - [ ] BLAST UniProt for 100% sequence using sequence and taxa\n",
    "    - [ ] Write soffisticated Python scripts\n",
    "  - [ ] store all found IDs imediatly to a file, thereby they dio not get searched again if rerun\n",
    "- [ ] Specify data_origin\n",
    "- [ ] Specify gene_name/prot_name (3FTx / Ly6)\n",
    "- [ ] Final CSV file contains: acc_id, data_origin, taxa, taxa_id, seq, signal_seq, active_seq, prot_name"
   ]
  },
  {
   "cell_type": "code",
   "execution_count": null,
   "metadata": {},
   "outputs": [],
   "source": []
  },
  {
   "attachments": {},
   "cell_type": "markdown",
   "metadata": {},
   "source": [
    "### Quick and dirty CSV merge"
   ]
  },
  {
   "cell_type": "code",
   "execution_count": 46,
   "metadata": {},
   "outputs": [],
   "source": [
    "df = df_old.copy()\n",
    "df = df.drop(columns=[\"Alphabeticode\"])\n",
    "df = df.reset_index(drop=True)\n",
    "\n",
    "df1 = df_new.copy()\n",
    "df1 = df1.rename(columns={\"Uniprot #\": \"Name in fasta\"})\n",
    "df1[\"Major group\"] = \"3FTx_new\"\n",
    "df1 = df1.reset_index(drop=True)"
   ]
  },
  {
   "cell_type": "code",
   "execution_count": 47,
   "metadata": {},
   "outputs": [
    {
     "data": {
      "text/html": [
       "<div>\n",
       "<style scoped>\n",
       "    .dataframe tbody tr th:only-of-type {\n",
       "        vertical-align: middle;\n",
       "    }\n",
       "\n",
       "    .dataframe tbody tr th {\n",
       "        vertical-align: top;\n",
       "    }\n",
       "\n",
       "    .dataframe thead th {\n",
       "        text-align: right;\n",
       "    }\n",
       "</style>\n",
       "<table border=\"1\" class=\"dataframe\">\n",
       "  <thead>\n",
       "    <tr style=\"text-align: right;\">\n",
       "      <th></th>\n",
       "      <th>Name in fasta</th>\n",
       "      <th>Original fasta header</th>\n",
       "      <th>Major group</th>\n",
       "      <th>Evolutionary order</th>\n",
       "      <th>Species</th>\n",
       "      <th>Major taxon</th>\n",
       "      <th>Entry</th>\n",
       "      <th>Name</th>\n",
       "      <th>Venom</th>\n",
       "      <th>Receptor</th>\n",
       "      <th>Subtype specificity</th>\n",
       "      <th>Activity</th>\n",
       "      <th>Alternative names</th>\n",
       "      <th>Number of CC bonds</th>\n",
       "      <th>PDB code</th>\n",
       "      <th>Referent</th>\n",
       "      <th>Groups</th>\n",
       "      <th>Representative</th>\n",
       "    </tr>\n",
       "  </thead>\n",
       "  <tbody>\n",
       "    <tr>\n",
       "      <th>0</th>\n",
       "      <td>Cbivi_3FTx_000</td>\n",
       "      <td>Cbivi_3FTx_000</td>\n",
       "      <td>3FTx</td>\n",
       "      <td>Basal</td>\n",
       "      <td>Calliophis bivirgatus</td>\n",
       "      <td>Elapidae</td>\n",
       "      <td>NaN</td>\n",
       "      <td>NaN</td>\n",
       "      <td>NaN</td>\n",
       "      <td>NaN</td>\n",
       "      <td>NaN</td>\n",
       "      <td>NaN</td>\n",
       "      <td>NaN</td>\n",
       "      <td>NaN</td>\n",
       "      <td>NaN</td>\n",
       "      <td>NaN</td>\n",
       "      <td>NaN</td>\n",
       "      <td>NaN</td>\n",
       "    </tr>\n",
       "    <tr>\n",
       "      <th>1</th>\n",
       "      <td>Erythrolamprus_poecilogyrus_A7X3M9</td>\n",
       "      <td>Erythrolamprus_poecilogyrus_A7X3M9</td>\n",
       "      <td>3FTx</td>\n",
       "      <td>Basal</td>\n",
       "      <td>Erythrolamprus poecilogyrus</td>\n",
       "      <td>Colubridae</td>\n",
       "      <td>NaN</td>\n",
       "      <td>NaN</td>\n",
       "      <td>NaN</td>\n",
       "      <td>NaN</td>\n",
       "      <td>NaN</td>\n",
       "      <td>NaN</td>\n",
       "      <td>NaN</td>\n",
       "      <td>NaN</td>\n",
       "      <td>NaN</td>\n",
       "      <td>NaN</td>\n",
       "      <td>NaN</td>\n",
       "      <td>NaN</td>\n",
       "    </tr>\n",
       "  </tbody>\n",
       "</table>\n",
       "</div>"
      ],
      "text/plain": [
       "                        Name in fasta               Original fasta header  \\\n",
       "0                      Cbivi_3FTx_000                      Cbivi_3FTx_000   \n",
       "1  Erythrolamprus_poecilogyrus_A7X3M9  Erythrolamprus_poecilogyrus_A7X3M9   \n",
       "\n",
       "  Major group Evolutionary order                      Species Major taxon  \\\n",
       "0        3FTx              Basal        Calliophis bivirgatus    Elapidae   \n",
       "1        3FTx              Basal  Erythrolamprus poecilogyrus  Colubridae   \n",
       "\n",
       "  Entry Name Venom Receptor Subtype specificity Activity Alternative names  \\\n",
       "0   NaN  NaN   NaN      NaN                 NaN      NaN               NaN   \n",
       "1   NaN  NaN   NaN      NaN                 NaN      NaN               NaN   \n",
       "\n",
       "  Number of CC bonds PDB code Referent  Groups Representative  \n",
       "0                NaN      NaN      NaN     NaN            NaN  \n",
       "1                NaN      NaN      NaN     NaN            NaN  "
      ]
     },
     "execution_count": 47,
     "metadata": {},
     "output_type": "execute_result"
    }
   ],
   "source": [
    "colname_id = \"Name in fasta\"\n",
    "# df = pd.merge(left=df, right=df1, on=colname_id, how=\"outer\")\n",
    "df = pd.concat([df, df1])\n",
    "colidx = df.pop(colname_id)\n",
    "df.insert(0, colname_id, colidx)\n",
    "df.to_csv(csv_final, index=False)\n",
    "df.head(2)"
   ]
  },
  {
   "attachments": {},
   "cell_type": "markdown",
   "metadata": {},
   "source": [
    "### Clean-up CSV\n",
    "- get uniprot ID\n",
    "  - last element of `Name in fasta` column -> or use `Original fasta header`?\n",
    "  - get uniprot ID if it starts with G...\n",
    "  - if it doesn't start with unigeneXXX\n",
    "  - if something like: `353sp|C0HK` -> 10 char long extract identifier from `Original fasta header` (second entry when split with `|`)\n",
    "  - if it is at least 5 charcters long\n",
    "  - check if it can be found in uniprot"
   ]
  },
  {
   "cell_type": "code",
   "execution_count": 27,
   "metadata": {},
   "outputs": [
    {
     "name": "stdout",
     "output_type": "stream",
     "text": [
      "<class 'pandas.core.frame.DataFrame'>\n",
      "RangeIndex: 991 entries, 0 to 990\n",
      "Data columns (total 32 columns):\n",
      " #   Column                                      Non-Null Count  Dtype \n",
      "---  ------                                      --------------  ----- \n",
      " 0   TM prediction                               991 non-null    object\n",
      " 1   Cell localisation prediction                991 non-null    object\n",
      " 2   Original fasta header                       991 non-null    object\n",
      " 3   Name in fasta                               991 non-null    object\n",
      " 4   Name (existing or suggested)                991 non-null    object\n",
      " 5   Major group                                 991 non-null    object\n",
      " 6   Genomic toxins                              27 non-null     object\n",
      " 7   Preliminary cysteine group                  991 non-null    object\n",
      " 8   Evolutionary order                          991 non-null    object\n",
      " 9   Novel function                              65 non-null     object\n",
      " 10  Species                                     991 non-null    object\n",
      " 11  Major taxon for the purposes of this study  991 non-null    object\n",
      " 12  Canonical cysteine 1 (pos 45)               991 non-null    object\n",
      " 13  Canonical cysteine 2 (pos 48)               991 non-null    object\n",
      " 14  Canonical cysteine 3 (pos 57)               991 non-null    object\n",
      " 15  Canonical cysteine 4 (pos 69)               991 non-null    object\n",
      " 16  Canonical cysteine 5 (pos 77)               991 non-null    object\n",
      " 17  Canonical cysteine 6 (pos 111)              991 non-null    object\n",
      " 18  Canonical cysteine 7 (pos 117)              991 non-null    object\n",
      " 19  Canonical cysteine 8 (pos 151)              991 non-null    object\n",
      " 20  Canonical cysteine 9 (pos 152)              991 non-null    object\n",
      " 21  Canonical cysteine 10 (pos 158)             991 non-null    object\n",
      " 22  Dimeric Toxins A subunit (pos 93)           991 non-null    object\n",
      " 23  Dimeric Toxins B subunit (pos 53)           991 non-null    object\n",
      " 24  Long chain cysteine 1 (pos 85)              991 non-null    object\n",
      " 25  Long chain cysteine 2 (pos 89)              991 non-null    object\n",
      " 26  Basal                                       991 non-null    bool  \n",
      " 27  Dimeric                                     991 non-null    bool  \n",
      " 28  Derived                                     991 non-null    bool  \n",
      " 29  Short-chain                                 991 non-null    bool  \n",
      " 30  Long-chain                                  991 non-null    bool  \n",
      " 31  canonical cysteine weirdness                991 non-null    bool  \n",
      "dtypes: bool(6), object(26)\n",
      "memory usage: 207.2+ KB\n"
     ]
    }
   ],
   "source": [
    "df = df_old.copy()\n",
    "df = df.drop(columns=[\"Alphabeticode\"])\n",
    "df.info()"
   ]
  },
  {
   "cell_type": "code",
   "execution_count": null,
   "metadata": {},
   "outputs": [],
   "source": []
  },
  {
   "cell_type": "code",
   "execution_count": null,
   "metadata": {},
   "outputs": [],
   "source": []
  },
  {
   "attachments": {},
   "cell_type": "markdown",
   "metadata": {},
   "source": [
    "## Report\n",
    "- French guys dset (`3FTs vs receptor dec12.xlsx`):\n",
    "  - Three entry names had no UniProtID and were removed: 'Neurotoxin II', 'Muscarinic toxin 5', 'FS2'\n",
    "- Ivan + MH dset:\n",
    "  - remove dashes `-` in seqs\n",
    "  - extract UniProt identifier where possible\n",
    "  - same ID, different sequence?\n",
    "    ```\n",
    "    >Walterinnesia_aegyptia_C0HKZ8\n",
    "    MECYKCGVSGCHLKITCSAEEKFCYKWQDKISNERWLGCAKTCTEEDTWRVYNSCCTTNLCNI\n",
    "    >353sp|C0HK\n",
    "    >sp|C0HKZ8|3NOJ_WALAE Actiflagelin OS=Walterinnesia aegyptia OX=64182 PE=1 SV=2\n",
    "    MECYKCGVSGCHLKITCSAEEKFCYKWRDKISNERWLGCAKTCTEENTWRVYNSCCTTNLCNP\n",
    "    ```\n",
    "    - according to UniProt history one is the old sequence version\n",
    "\n",
    "\n",
    "  - Given that the **Original fasta header** column in the `SM_table.csv` file had unique names the FASTA file (`3and6_current_alignment.fasta`) was updated with those\n",
    "  - `3FTs vs receptor dec12.xlsx`\n",
    "- Clean up CSV\n",
    "  - Name in fasta\n",
    "    - What is 3FTx_000, 3FTx_05, ..."
   ]
  },
  {
   "cell_type": "code",
   "execution_count": 72,
   "metadata": {},
   "outputs": [
    {
     "name": "stdout",
     "output_type": "stream",
     "text": [
      "28 Q R\n",
      "47 D N\n",
      "63 I P\n"
     ]
    }
   ],
   "source": [
    "seq1 = \"MECYKCGVSGCHLKITCSAEEKFCYKWQDKISNERWLGCAKTCTEEDTWRVYNSCCTTNLCNI\"\n",
    "seq2 = \"MECYKCGVSGCHLKITCSAEEKFCYKWRDKISNERWLGCAKTCTEENTWRVYNSCCTTNLCNP\"\n",
    "for idx, (s1, s2) in enumerate(zip(seq1, seq2), 1):\n",
    "    if s1 != s2:\n",
    "        print(idx, s1, s2)"
   ]
  },
  {
   "cell_type": "code",
   "execution_count": null,
   "metadata": {},
   "outputs": [],
   "source": []
  }
 ],
 "metadata": {
  "kernelspec": {
   "display_name": "protspace3d",
   "language": "python",
   "name": "python3"
  },
  "language_info": {
   "codemirror_mode": {
    "name": "ipython",
    "version": 3
   },
   "file_extension": ".py",
   "mimetype": "text/x-python",
   "name": "python",
   "nbconvert_exporter": "python",
   "pygments_lexer": "ipython3",
   "version": "3.9.13"
  },
  "orig_nbformat": 4,
  "vscode": {
   "interpreter": {
    "hash": "f967f6acf9417b335e0267c1a18089754f7cfe4000dd5b5afc6f7bca3da22610"
   }
  }
 },
 "nbformat": 4,
 "nbformat_minor": 2
}
