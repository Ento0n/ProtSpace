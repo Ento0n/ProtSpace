{
 "cells": [
  {
   "cell_type": "code",
   "execution_count": 34,
   "metadata": {},
   "outputs": [],
   "source": [
    "import pandas as pd\n",
    "import h5py\n",
    "from pyfaidx import Fasta"
   ]
  },
  {
   "cell_type": "code",
   "execution_count": 1,
   "metadata": {},
   "outputs": [],
   "source": [
    "csv = \"3and6_10char.csv\"\n",
    "fasta = \"3and6_10char.fasta\"\n",
    "h5 = \"3and6_10char.h5\""
   ]
  },
  {
   "cell_type": "code",
   "execution_count": 51,
   "metadata": {},
   "outputs": [],
   "source": [
    "from typing import Generator\n",
    "from math import ceil, log\n",
    "from itertools import product\n",
    "\n",
    "def get_new_seq_ids(nr_seqs: int) -> Generator[str, None, None]:\n",
    "    # get number of sequences and calculate how many letters are needed to\n",
    "    # uniquely identify all sequences\n",
    "    alphabet = \"\".join(map(chr, range(ord(\"A\"), ord(\"Z\") + 1)))\n",
    "    nr_letters_needed = ceil(log(nr_seqs, len(alphabet)))\n",
    "\n",
    "    # new identifier generator (e.g. AA, AB, AC, ...)\n",
    "    new_seq_ids = (\n",
    "        \"\".join(combi)\n",
    "        for combi in product(alphabet, repeat=nr_letters_needed)\n",
    "    )\n",
    "    return new_seq_ids"
   ]
  },
  {
   "cell_type": "code",
   "execution_count": 81,
   "metadata": {},
   "outputs": [
    {
     "data": {
      "text/html": [
       "<div>\n",
       "<style scoped>\n",
       "    .dataframe tbody tr th:only-of-type {\n",
       "        vertical-align: middle;\n",
       "    }\n",
       "\n",
       "    .dataframe tbody tr th {\n",
       "        vertical-align: top;\n",
       "    }\n",
       "\n",
       "    .dataframe thead th {\n",
       "        text-align: right;\n",
       "    }\n",
       "</style>\n",
       "<table border=\"1\" class=\"dataframe\">\n",
       "  <thead>\n",
       "    <tr style=\"text-align: right;\">\n",
       "      <th></th>\n",
       "      <th>mapped_id</th>\n",
       "      <th>new_10_Char</th>\n",
       "      <th>10 char .phy format name</th>\n",
       "      <th>Original fasta header</th>\n",
       "      <th>Name (existing or suggested)</th>\n",
       "      <th>Major group</th>\n",
       "      <th>Species</th>\n",
       "      <th>Major taxon for the purposes of this study</th>\n",
       "    </tr>\n",
       "  </thead>\n",
       "  <tbody>\n",
       "    <tr>\n",
       "      <th>292</th>\n",
       "      <td>AAA</td>\n",
       "      <td>AAAAAAAAAA</td>\n",
       "      <td>Cbivi_3FTx_000</td>\n",
       "      <td>Cbivi_3FTx_000</td>\n",
       "      <td>-</td>\n",
       "      <td>3FTx</td>\n",
       "      <td>Calliophis bivirgatus</td>\n",
       "      <td>Elapidae</td>\n",
       "    </tr>\n",
       "    <tr>\n",
       "      <th>386</th>\n",
       "      <td>AAB</td>\n",
       "      <td>AAAAAAAAAB</td>\n",
       "      <td>Erythrolamprus_poecilogyrus_A7X3M9</td>\n",
       "      <td>Erythrolamprus_poecilogyrus_A7X3M9</td>\n",
       "      <td>-</td>\n",
       "      <td>3FTx</td>\n",
       "      <td>Erythrolamprus poecilogyrus</td>\n",
       "      <td>Colubridae</td>\n",
       "    </tr>\n",
       "  </tbody>\n",
       "</table>\n",
       "</div>"
      ],
      "text/plain": [
       "    mapped_id new_10_Char            10 char .phy format name  \\\n",
       "292       AAA  AAAAAAAAAA                      Cbivi_3FTx_000   \n",
       "386       AAB  AAAAAAAAAB  Erythrolamprus_poecilogyrus_A7X3M9   \n",
       "\n",
       "                  Original fasta header Name (existing or suggested)  \\\n",
       "292                      Cbivi_3FTx_000                            -   \n",
       "386  Erythrolamprus_poecilogyrus_A7X3M9                            -   \n",
       "\n",
       "    Major group                      Species  \\\n",
       "292        3FTx        Calliophis bivirgatus   \n",
       "386        3FTx  Erythrolamprus poecilogyrus   \n",
       "\n",
       "    Major taxon for the purposes of this study  \n",
       "292                                   Elapidae  \n",
       "386                                 Colubridae  "
      ]
     },
     "execution_count": 81,
     "metadata": {},
     "output_type": "execute_result"
    }
   ],
   "source": [
    "df = pd.read_csv(csv)\n",
    "# df.drop(columns=[\"new_10_Char\", \"10 char .phy format name\"])\n",
    "df = df.sort_values(\"new_10_Char\")\n",
    "mapped_id = list(get_new_seq_ids(nr_seqs=len(df)))[:len(df)]\n",
    "df.insert(0, \"mapped_id\", mapped_id)\n",
    "df.head(2)\n",
    "# len(df)"
   ]
  },
  {
   "cell_type": "code",
   "execution_count": 82,
   "metadata": {},
   "outputs": [],
   "source": [
    "new_fasta = \"3FTx.fasta\"\n",
    "\n",
    "fasta_handler = Fasta(fasta)\n",
    "with open(new_fasta, \"w\") as f_out:\n",
    "    for header, seq in fasta_handler.items():\n",
    "        new_header = df.loc[df[\"new_10_Char\"] == header, \"mapped_id\"].values[0]\n",
    "        f_out.write(f\">{new_header}\\n\")\n",
    "        f_out.write(f\"{seq}\\n\")"
   ]
  },
  {
   "cell_type": "code",
   "execution_count": 83,
   "metadata": {},
   "outputs": [],
   "source": [
    "new_h5 = \"3FTx.h5\"\n",
    "\n",
    "with h5py.File(h5, \"r\") as in_hdf, h5py.File(new_h5, \"w\") as out_hdf:\n",
    "    for idx, (header, emb) in enumerate(in_hdf.items()):\n",
    "        new_header = df.loc[df[\"new_10_Char\"] == header, \"mapped_id\"].values[0]\n",
    "        try:\n",
    "            out_hdf.create_dataset(name=new_header, data=emb)\n",
    "        except ValueError:\n",
    "            print(new_header, header)"
   ]
  },
  {
   "cell_type": "code",
   "execution_count": 84,
   "metadata": {},
   "outputs": [],
   "source": [
    "df_new = df.drop(columns=[\"new_10_Char\", \"10 char .phy format name\"])\n",
    "df_new = df_new.rename(columns={\"Original fasta header\": \"original_id\"})\n",
    "df_new.to_csv(\"3FTx_mapped.csv\", index=False)"
   ]
  },
  {
   "cell_type": "code",
   "execution_count": null,
   "metadata": {},
   "outputs": [],
   "source": []
  }
 ],
 "metadata": {
  "kernelspec": {
   "display_name": "Python 3.9.13 ('protspace3d')",
   "language": "python",
   "name": "python3"
  },
  "language_info": {
   "codemirror_mode": {
    "name": "ipython",
    "version": 3
   },
   "file_extension": ".py",
   "mimetype": "text/x-python",
   "name": "python",
   "nbconvert_exporter": "python",
   "pygments_lexer": "ipython3",
   "version": "3.9.13"
  },
  "orig_nbformat": 4,
  "vscode": {
   "interpreter": {
    "hash": "f967f6acf9417b335e0267c1a18089754f7cfe4000dd5b5afc6f7bca3da22610"
   }
  }
 },
 "nbformat": 4,
 "nbformat_minor": 2
}
