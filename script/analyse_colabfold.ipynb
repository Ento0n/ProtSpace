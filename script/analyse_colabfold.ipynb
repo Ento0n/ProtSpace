{
 "cells": [
  {
   "cell_type": "code",
   "execution_count": 2,
   "metadata": {},
   "outputs": [],
   "source": [
    "import json\n",
    "import numpy as np"
   ]
  },
  {
   "cell_type": "markdown",
   "metadata": {},
   "source": [
    "### PAE (predicted aligned error)"
   ]
  },
  {
   "cell_type": "code",
   "execution_count": 5,
   "metadata": {},
   "outputs": [
    {
     "data": {
      "text/plain": [
       "dict_keys(['residue1', 'residue2', 'distance', 'max_predicted_aligned_error'])"
      ]
     },
     "execution_count": 5,
     "metadata": {},
     "output_type": "execute_result"
    }
   ],
   "source": [
    "path = \"../data/ex3/colabfold/0_predicted_aligned_error_v1.json\"\n",
    "\n",
    "with open(path) as f:\n",
    "    data = json.load(f)[0]\n",
    "\n",
    "nr_ele = 3\n",
    "data_gen = iter(data.items())\n",
    "data.keys()"
   ]
  },
  {
   "cell_type": "code",
   "execution_count": 8,
   "metadata": {},
   "outputs": [
    {
     "name": "stdout",
     "output_type": "stream",
     "text": [
      "residue1 900\n",
      "residue2 900\n",
      "distance 900\n",
      "max_predicted_aligned_error 31.75\n"
     ]
    }
   ],
   "source": [
    "for k, v in data.items():\n",
    "    if isinstance(v, list):\n",
    "        print(k, len(v))\n",
    "    else:\n",
    "        print(k, v)"
   ]
  },
  {
   "cell_type": "markdown",
   "metadata": {},
   "source": [
    "### unrelexed rank"
   ]
  },
  {
   "cell_type": "code",
   "execution_count": 9,
   "metadata": {},
   "outputs": [],
   "source": [
    "from pathlib import Path"
   ]
  },
  {
   "cell_type": "code",
   "execution_count": 10,
   "metadata": {},
   "outputs": [],
   "source": [
    "def get_info(data):\n",
    "    max_pae = data[\"max_pae\"]\n",
    "    avg_pae = np.array(data[\"pae\"]).mean()\n",
    "    avg_plddt = np.array(data[\"plddt\"]).mean()\n",
    "    ptm = data[\"ptm\"]\n",
    "    print(f\"max_pae: {max_pae:.2f}, avg_pae: {avg_pae:>5.2f}, avg_plddt: {avg_plddt:.2f}, ptm: {ptm:.2f}\")"
   ]
  },
  {
   "cell_type": "code",
   "execution_count": 12,
   "metadata": {},
   "outputs": [
    {
     "name": "stdout",
     "output_type": "stream",
     "text": [
      "0\n",
      "max_pae: 31.75, avg_pae:  6.61, avg_plddt: 70.24, ptm: 0.28\n",
      "max_pae: 31.75, avg_pae:  6.48, avg_plddt: 68.71, ptm: 0.27\n",
      "max_pae: 31.75, avg_pae:  7.27, avg_plddt: 64.20, ptm: 0.26\n",
      "max_pae: 31.75, avg_pae: 12.03, avg_plddt: 50.87, ptm: 0.15\n",
      "max_pae: 31.75, avg_pae: 12.82, avg_plddt: 46.93, ptm: 0.12\n",
      "\n",
      "1\n",
      "max_pae: 31.75, avg_pae:  9.98, avg_plddt: 55.10, ptm: 0.12\n",
      "max_pae: 31.75, avg_pae: 10.24, avg_plddt: 53.87, ptm: 0.10\n",
      "max_pae: 31.75, avg_pae: 10.59, avg_plddt: 52.43, ptm: 0.10\n",
      "max_pae: 31.75, avg_pae:  9.85, avg_plddt: 52.06, ptm: 0.11\n",
      "max_pae: 31.75, avg_pae: 11.82, avg_plddt: 48.57, ptm: 0.09\n",
      "\n",
      "2\n",
      "max_pae: 31.75, avg_pae:  7.46, avg_plddt: 61.63, ptm: 0.08\n",
      "max_pae: 31.75, avg_pae:  8.53, avg_plddt: 58.08, ptm: 0.05\n",
      "max_pae: 31.75, avg_pae:  8.55, avg_plddt: 56.66, ptm: 0.05\n",
      "max_pae: 31.75, avg_pae:  9.28, avg_plddt: 52.52, ptm: 0.05\n",
      "max_pae: 31.75, avg_pae:  9.47, avg_plddt: 52.02, ptm: 0.04\n",
      "\n",
      "3\n",
      "max_pae: 31.75, avg_pae:  4.47, avg_plddt: 80.89, ptm: 0.07\n",
      "max_pae: 31.75, avg_pae:  5.52, avg_plddt: 73.58, ptm: 0.07\n",
      "max_pae: 31.75, avg_pae:  5.82, avg_plddt: 72.48, ptm: 0.07\n",
      "max_pae: 31.75, avg_pae:  7.89, avg_plddt: 59.99, ptm: 0.05\n",
      "max_pae: 31.75, avg_pae:  8.46, avg_plddt: 55.74, ptm: 0.05\n",
      "\n",
      "4\n",
      "max_pae: 31.75, avg_pae:  6.68, avg_plddt: 66.62, ptm: 0.06\n",
      "max_pae: 31.75, avg_pae:  7.56, avg_plddt: 61.15, ptm: 0.05\n",
      "max_pae: 31.75, avg_pae:  7.67, avg_plddt: 60.65, ptm: 0.05\n",
      "max_pae: 31.75, avg_pae:  8.42, avg_plddt: 58.53, ptm: 0.06\n",
      "max_pae: 31.75, avg_pae:  8.02, avg_plddt: 58.05, ptm: 0.05\n",
      "\n",
      "5\n",
      "max_pae: 31.75, avg_pae: 10.93, avg_plddt: 65.65, ptm: 0.05\n",
      "max_pae: 31.75, avg_pae:  9.42, avg_plddt: 60.09, ptm: 0.07\n",
      "max_pae: 31.75, avg_pae: 10.32, avg_plddt: 58.27, ptm: 0.05\n",
      "max_pae: 31.75, avg_pae:  9.29, avg_plddt: 57.43, ptm: 0.05\n",
      "max_pae: 31.75, avg_pae: 10.20, avg_plddt: 56.84, ptm: 0.05\n",
      "\n",
      "6\n",
      "max_pae: 31.75, avg_pae:  6.92, avg_plddt: 71.06, ptm: 0.06\n",
      "max_pae: 31.75, avg_pae:  7.55, avg_plddt: 66.15, ptm: 0.05\n",
      "max_pae: 31.75, avg_pae:  8.23, avg_plddt: 60.39, ptm: 0.05\n",
      "max_pae: 31.75, avg_pae:  9.41, avg_plddt: 60.20, ptm: 0.05\n",
      "max_pae: 31.75, avg_pae: 10.39, avg_plddt: 58.72, ptm: 0.05\n",
      "\n",
      "7\n",
      "max_pae: 31.75, avg_pae: 15.14, avg_plddt: 48.28, ptm: 0.15\n",
      "max_pae: 31.75, avg_pae: 14.94, avg_plddt: 48.09, ptm: 0.15\n",
      "max_pae: 31.75, avg_pae: 14.94, avg_plddt: 46.50, ptm: 0.13\n",
      "max_pae: 31.75, avg_pae: 15.81, avg_plddt: 45.16, ptm: 0.13\n",
      "max_pae: 31.75, avg_pae: 14.88, avg_plddt: 44.62, ptm: 0.14\n",
      "\n",
      "8\n",
      "max_pae: 31.75, avg_pae: 13.03, avg_plddt: 53.32, ptm: 0.16\n",
      "max_pae: 31.75, avg_pae: 14.98, avg_plddt: 52.26, ptm: 0.15\n",
      "max_pae: 31.75, avg_pae: 13.60, avg_plddt: 51.61, ptm: 0.16\n",
      "max_pae: 31.75, avg_pae: 13.78, avg_plddt: 51.53, ptm: 0.16\n",
      "max_pae: 31.75, avg_pae: 13.80, avg_plddt: 51.19, ptm: 0.17\n",
      "\n",
      "9\n",
      "max_pae: 31.75, avg_pae:  9.10, avg_plddt: 64.71, ptm: 0.35\n",
      "max_pae: 31.75, avg_pae: 12.04, avg_plddt: 52.18, ptm: 0.25\n",
      "max_pae: 31.75, avg_pae: 12.35, avg_plddt: 51.20, ptm: 0.26\n",
      "max_pae: 31.75, avg_pae: 12.35, avg_plddt: 50.99, ptm: 0.28\n",
      "max_pae: 31.75, avg_pae: 12.70, avg_plddt: 46.78, ptm: 0.25\n",
      "\n",
      "10\n",
      "max_pae: 31.75, avg_pae: 10.14, avg_plddt: 58.39, ptm: 0.30\n",
      "max_pae: 31.75, avg_pae: 10.78, avg_plddt: 56.65, ptm: 0.32\n",
      "max_pae: 31.75, avg_pae: 12.43, avg_plddt: 51.39, ptm: 0.23\n",
      "max_pae: 31.75, avg_pae: 12.12, avg_plddt: 50.93, ptm: 0.29\n",
      "max_pae: 31.75, avg_pae: 12.44, avg_plddt: 48.80, ptm: 0.21\n",
      "\n",
      "11\n",
      "max_pae: 31.75, avg_pae:  4.21, avg_plddt: 85.48, ptm: 0.33\n",
      "\n",
      "12\n",
      "max_pae: 31.75, avg_pae:  4.26, avg_plddt: 80.55, ptm: 0.05\n",
      "max_pae: 31.75, avg_pae:  5.87, avg_plddt: 66.14, ptm: 0.03\n",
      "max_pae: 31.75, avg_pae:  7.59, avg_plddt: 63.96, ptm: 0.03\n",
      "max_pae: 31.75, avg_pae:  5.53, avg_plddt: 63.60, ptm: 0.03\n",
      "max_pae: 31.75, avg_pae:  6.09, avg_plddt: 62.81, ptm: 0.03\n",
      "\n",
      "13\n",
      "max_pae: 31.75, avg_pae:  7.40, avg_plddt: 63.37, ptm: 0.15\n",
      "max_pae: 31.75, avg_pae:  8.34, avg_plddt: 61.19, ptm: 0.16\n",
      "max_pae: 31.75, avg_pae:  8.08, avg_plddt: 58.74, ptm: 0.13\n",
      "max_pae: 31.75, avg_pae:  8.12, avg_plddt: 58.57, ptm: 0.16\n",
      "max_pae: 31.75, avg_pae:  8.42, avg_plddt: 57.00, ptm: 0.15\n",
      "\n",
      "14\n",
      "max_pae: 31.75, avg_pae:  7.23, avg_plddt: 61.68, ptm: 0.17\n",
      "max_pae: 31.75, avg_pae:  8.76, avg_plddt: 58.57, ptm: 0.14\n",
      "max_pae: 31.75, avg_pae:  8.84, avg_plddt: 56.52, ptm: 0.11\n",
      "max_pae: 31.75, avg_pae:  8.87, avg_plddt: 55.59, ptm: 0.11\n",
      "max_pae: 31.75, avg_pae:  8.95, avg_plddt: 53.94, ptm: 0.11\n",
      "\n",
      "15\n",
      "max_pae: 31.75, avg_pae:  7.11, avg_plddt: 66.91, ptm: 0.17\n",
      "max_pae: 31.75, avg_pae:  8.24, avg_plddt: 61.39, ptm: 0.14\n",
      "max_pae: 31.75, avg_pae:  8.23, avg_plddt: 61.30, ptm: 0.12\n",
      "max_pae: 31.75, avg_pae:  9.19, avg_plddt: 58.59, ptm: 0.13\n",
      "max_pae: 31.75, avg_pae:  9.05, avg_plddt: 54.86, ptm: 0.11\n",
      "\n",
      "16\n",
      "max_pae: 31.75, avg_pae:  3.74, avg_plddt: 86.48, ptm: 0.36\n",
      "max_pae: 31.75, avg_pae:  8.66, avg_plddt: 61.62, ptm: 0.17\n",
      "\n",
      "17\n",
      "max_pae: 31.75, avg_pae:  5.58, avg_plddt: 74.12, ptm: 0.03\n",
      "max_pae: 31.75, avg_pae:  7.24, avg_plddt: 66.46, ptm: 0.03\n",
      "max_pae: 31.75, avg_pae:  6.90, avg_plddt: 63.96, ptm: 0.03\n",
      "max_pae: 31.75, avg_pae:  6.85, avg_plddt: 63.27, ptm: 0.03\n",
      "max_pae: 31.75, avg_pae:  6.78, avg_plddt: 63.12, ptm: 0.03\n",
      "\n",
      "18\n",
      "max_pae: 31.75, avg_pae: 11.25, avg_plddt: 37.68, ptm: 0.41\n",
      "max_pae: 31.75, avg_pae: 12.89, avg_plddt: 35.52, ptm: 0.31\n",
      "max_pae: 31.75, avg_pae: 14.35, avg_plddt: 33.37, ptm: 0.28\n",
      "max_pae: 31.75, avg_pae: 12.23, avg_plddt: 25.80, ptm: 0.38\n",
      "max_pae: 31.75, avg_pae: 16.70, avg_plddt: 23.70, ptm: 0.17\n",
      "\n",
      "19\n",
      "max_pae: 31.75, avg_pae: 10.68, avg_plddt: 44.04, ptm: 0.41\n",
      "max_pae: 31.75, avg_pae: 14.37, avg_plddt: 34.94, ptm: 0.27\n",
      "max_pae: 31.75, avg_pae: 13.78, avg_plddt: 28.61, ptm: 0.29\n",
      "max_pae: 31.75, avg_pae: 12.18, avg_plddt: 27.76, ptm: 0.37\n",
      "max_pae: 31.75, avg_pae: 16.24, avg_plddt: 24.95, ptm: 0.20\n",
      "\n"
     ]
    }
   ],
   "source": [
    "pdb_root = Path(\"../data/ex3/colabfold\")\n",
    "for idx in range(20):\n",
    "    files = pdb_root.glob(f\"{idx}_unrelaxed*.json\")\n",
    "    files = sorted(list(files))\n",
    "    print(idx)\n",
    "\n",
    "    for file in files:\n",
    "        with open(file, \"r\") as f:\n",
    "            data = json.load(f)\n",
    "        get_info(data)\n",
    "    print()"
   ]
  },
  {
   "cell_type": "code",
   "execution_count": null,
   "metadata": {},
   "outputs": [],
   "source": []
  }
 ],
 "metadata": {
  "kernelspec": {
   "display_name": "Python 3.9.13 ('protspace3d')",
   "language": "python",
   "name": "python3"
  },
  "language_info": {
   "codemirror_mode": {
    "name": "ipython",
    "version": 3
   },
   "file_extension": ".py",
   "mimetype": "text/x-python",
   "name": "python",
   "nbconvert_exporter": "python",
   "pygments_lexer": "ipython3",
   "version": "3.9.13"
  },
  "orig_nbformat": 4,
  "vscode": {
   "interpreter": {
    "hash": "f967f6acf9417b335e0267c1a18089754f7cfe4000dd5b5afc6f7bca3da22610"
   }
  }
 },
 "nbformat": 4,
 "nbformat_minor": 2
}
