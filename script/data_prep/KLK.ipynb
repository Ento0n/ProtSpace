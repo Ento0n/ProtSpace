{
 "cells": [
  {
   "cell_type": "code",
   "execution_count": 1,
   "metadata": {},
   "outputs": [
    {
     "data": {
      "text/html": [
       "\n",
       "                <script type=\"application/javascript\" id=\"jupyter_black\">\n",
       "                (function() {\n",
       "                    if (window.IPython === undefined) {\n",
       "                        return\n",
       "                    }\n",
       "                    var msg = \"WARNING: it looks like you might have loaded \" +\n",
       "                        \"jupyter_black in a non-lab notebook with \" +\n",
       "                        \"`is_lab=True`. Please double check, and if \" +\n",
       "                        \"loading with `%load_ext` please review the README!\"\n",
       "                    console.log(msg)\n",
       "                    alert(msg)\n",
       "                })()\n",
       "                </script>\n",
       "                "
      ],
      "text/plain": [
       "<IPython.core.display.HTML object>"
      ]
     },
     "metadata": {},
     "output_type": "display_data"
    }
   ],
   "source": [
    "import jupyter_black\n",
    "\n",
    "jupyter_black.load()"
   ]
  },
  {
   "cell_type": "code",
   "execution_count": 2,
   "metadata": {},
   "outputs": [],
   "source": [
    "import re\n",
    "from pathlib import Path\n",
    "\n",
    "import pandas as pd\n",
    "from pyfaidx import Fasta\n",
    "\n",
    "base = Path(\"../../data/KLK\")\n",
    "raw = base / \"raw\"\n",
    "sup_mat = raw / \"SM\"\n",
    "fasta_path = sup_mat / \"MOESM14_ESM.fasta\"\n",
    "nexus_path = sup_mat / \"MOESM4_ESM.txt\"\n",
    "klk_group_file = raw / \"KLK_groups.txt\"\n",
    "\n",
    "fasta_out = base / \"KLK.fasta\"\n",
    "csv_out = base / \"KLK.csv\"\n",
    "itol_file = base / \"iTOL.txt\""
   ]
  },
  {
   "attachments": {},
   "cell_type": "markdown",
   "metadata": {},
   "source": [
    "## Infer species"
   ]
  },
  {
   "cell_type": "code",
   "execution_count": 3,
   "metadata": {},
   "outputs": [],
   "source": [
    "header_mapper = {\n",
    "    \"Alsi\": \"Alligator sinensis\",\n",
    "    \"BLTx\": \"Blarina toxin\",\n",
    "    \"Calu\": \"Canis lupus\",\n",
    "    \"Cewa\": \"Celestus warreni\",\n",
    "    \"Crvi\": \"Crotalus viridis\",\n",
    "    \"Ereu\": \"Erinaceus europaeus\",\n",
    "    \"Erueu\": \"Erinaceus europaeus\",\n",
    "    \"Euma\": \"Eublepharis macularius\",\n",
    "    \"Gein\": \"Gerrhonotus infernalis\",\n",
    "    \"Hosa\": \"Homo sapiens\",\n",
    "    \"H_susp\": \"Heloderma suspectum\",\n",
    "    \"Laag\": \"Lacerta agilis\",\n",
    "    \"Mumu\": \"Mus musculus\",\n",
    "    \"Nana\": \"Naja naja\",\n",
    "    \"Oran\": \"Ornithorhynchus anatinus\",\n",
    "    \"Pesi\": \"Pelodiscus sinensis\",\n",
    "    \"Phci\": \"Phascolarctos cinereus\",\n",
    "    \"Prmu\": \"Protobothrops mucrosquamatus\",\n",
    "    \"Sopa\": \"Solenodon paradoxus\",\n",
    "    \"Thel\": \"Thamnophis elegans\",\n",
    "    \"Vaac\": \"Varanus acanthurus\",\n",
    "    \"Vagi\": \"Varanus gilleni\",\n",
    "    \"Vagig\": \"Varanus giganteus\",\n",
    "    \"Vagl\": \"Varanus glauerti\",\n",
    "    \"Vain\": \"Varanus indicus\",\n",
    "    \"Vako\": \"Varanus komodoensis\",\n",
    "    \"Vame\": \"Varanus mertens\",\n",
    "    \"Vami\": \"Varanus mitchelli\",\n",
    "    \"Vapa\": \"Varanus panoptes\",\n",
    "    \"Vasc\": \"Varanus scalaris\",\n",
    "    \"Xetr\": \"Xenopus tropicalis\",\n",
    "}"
   ]
  },
  {
   "cell_type": "code",
   "execution_count": 4,
   "metadata": {},
   "outputs": [],
   "source": [
    "data = []\n",
    "abbrs = list(header_mapper.keys())\n",
    "pat = r\"([A-Z][a-z]+_[a-z]+)\"\n",
    "for header, seq in Fasta(fasta_path).items():\n",
    "    seq = str(seq).replace(\"-\", \"\")\n",
    "    for abbr in abbrs:\n",
    "        if abbr in header:\n",
    "            species = header_mapper[abbr]\n",
    "            break\n",
    "    else:\n",
    "        m = re.search(pattern=pat, string=header)\n",
    "        if m is not None:\n",
    "            species = m[1].replace(\"_\", \" \")\n",
    "        else:\n",
    "            print(f\"Error: connot extract species from '{header}'\")\n",
    "    entry = {\"fasta_header\": header, \"species\": species, \"seq\": seq}\n",
    "    data.append(entry)\n",
    "df = pd.DataFrame(data)"
   ]
  },
  {
   "attachments": {},
   "cell_type": "markdown",
   "metadata": {},
   "source": [
    "### Add KLK groups"
   ]
  },
  {
   "cell_type": "code",
   "execution_count": 18,
   "metadata": {},
   "outputs": [
    {
     "name": "stdout",
     "output_type": "stream",
     "text": [
      "Hosa KLK 1\n"
     ]
    }
   ],
   "source": [
    "# KLK groups\n",
    "with open(klk_group_file, \"r\") as handle:\n",
    "    for line in handle:\n",
    "        if line.startswith(\"---\"):\n",
    "            group = line.strip().split(\" \", maxsplit=1)[1]\n",
    "        else:\n",
    "            fasta_header = (\n",
    "                line.strip()\n",
    "                .replace(\"zgc \", \"zgc:\")\n",
    "                .replace(\"zmp \", \"zmp:\")\n",
    "                .replace(\"isoform \", \"isoform=\")\n",
    "                .replace(\" \", \"_\")\n",
    "                .replace(\"ID\", \"ID=\")\n",
    "            )\n",
    "            if fasta_header not in df[\"fasta_header\"].to_list():\n",
    "                print(line.strip())\n",
    "            df.loc[df[\"fasta_header\"] == fasta_header, \"group\"] = group\n",
    "\n",
    "df = df[[\"fasta_header\", \"group\", \"species\", \"seq\"]]\n",
    "\n",
    "# remove duplicates\n",
    "df = df[~(df[\"fasta_header\"] == \"Hosa_KLK_1\")]"
   ]
  },
  {
   "cell_type": "code",
   "execution_count": 12,
   "metadata": {},
   "outputs": [],
   "source": [
    "df.to_csv(csv_out, index=False)\n",
    "with open(fasta_out, \"w\") as handle:\n",
    "    for idx, row in df.iterrows():\n",
    "        handle.write(f\">{row['fasta_header']}\\n\")\n",
    "        handle.write(f\"{row['seq']}\\n\")"
   ]
  },
  {
   "attachments": {},
   "cell_type": "markdown",
   "metadata": {},
   "source": [
    "### iTOL coloring"
   ]
  },
  {
   "cell_type": "code",
   "execution_count": 17,
   "metadata": {},
   "outputs": [],
   "source": [
    "import colorsys\n",
    "from distinctipy import distinctipy\n",
    "\n",
    "# number of colours to generate\n",
    "N = len(df[\"group\"].unique())\n",
    "seed = 42\n",
    "\n",
    "colorblind_type = \"Normal\"\n",
    "colors = distinctipy.get_colors(N, colorblind_type=colorblind_type, rng=seed)\n",
    "colors = [\"#\" + \"\".join([f\"{int(c * 255):02X}\" for c in color]) for color in colors]\n",
    "color_group = {g: c for g, c in zip(df[\"group\"].unique(), colors)}\n",
    "\n",
    "with open(itol_file, \"w\") as handle:\n",
    "    handle.write(\"TREE_COLORS\\n\")\n",
    "    handle.write(\"SEPARATOR TAB\\n\")\n",
    "    handle.write(\"DATA\\n\")\n",
    "    for group in df[\"group\"].unique():\n",
    "        for idx, row in df[df[\"group\"] == group].iterrows():\n",
    "            uid = (\n",
    "                row[\"fasta_header\"]\n",
    "                .replace(\":\", \"_\")\n",
    "                .replace(\"ID=\", \"ID\")\n",
    "                .replace(\"=\", \"_\")\n",
    "            )\n",
    "            # group = row[\"group\"]\n",
    "            color = color_group[group]\n",
    "            handle.write(f\"{uid}\\trange\\t{color}\\t{group}\\n\")"
   ]
  }
 ],
 "metadata": {
  "kernelspec": {
   "display_name": "protspace3d",
   "language": "python",
   "name": "python3"
  },
  "language_info": {
   "codemirror_mode": {
    "name": "ipython",
    "version": 3
   },
   "file_extension": ".py",
   "mimetype": "text/x-python",
   "name": "python",
   "nbconvert_exporter": "python",
   "pygments_lexer": "ipython3",
   "version": "3.9.13"
  },
  "orig_nbformat": 4,
  "vscode": {
   "interpreter": {
    "hash": "f967f6acf9417b335e0267c1a18089754f7cfe4000dd5b5afc6f7bca3da22610"
   }
  }
 },
 "nbformat": 4,
 "nbformat_minor": 2
}
