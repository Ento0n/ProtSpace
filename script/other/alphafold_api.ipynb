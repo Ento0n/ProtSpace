{
 "cells": [
  {
   "cell_type": "markdown",
   "metadata": {},
   "source": [
    "https://academic.oup.com/nar/article/50/D1/D439/6430488?login=false"
   ]
  },
  {
   "cell_type": "code",
   "execution_count": null,
   "metadata": {},
   "outputs": [],
   "source": [
    "import requests\n",
    "\n",
    "# r = requests.get(\"https://alphafold.ebi.ac.uk/entry/Q69383\")\n",
    "r = requests.get(\"https://alphafold.ebi.ac.uk/api/prediction/Q92793\")"
   ]
  }
 ],
 "metadata": {
  "kernelspec": {
   "display_name": "protspace3d",
   "language": "python",
   "name": "python3"
  },
  "language_info": {
   "name": "python",
   "version": "3.9.13 (main, Aug 25 2022, 18:29:29) \n[Clang 12.0.0 ]"
  },
  "orig_nbformat": 4,
  "vscode": {
   "interpreter": {
    "hash": "f967f6acf9417b335e0267c1a18089754f7cfe4000dd5b5afc6f7bca3da22610"
   }
  }
 },
 "nbformat": 4,
 "nbformat_minor": 2
}
