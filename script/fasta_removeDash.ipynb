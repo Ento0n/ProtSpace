{
 "cells": [
  {
   "cell_type": "code",
   "execution_count": 10,
   "metadata": {},
   "outputs": [],
   "source": [
    "from pyfaidx import Fasta\n",
    "from pathlib import Path\n",
    "\n",
    "path = Path(\"data/ex6/Pla2g2.fasta\")\n",
    "new_stem = f\"{path.stem}_noDash\"\n",
    "out_path = path.with_stem(new_stem)\n",
    "fasta = Fasta(path, read_long_names=True, sequence_always_upper=True)"
   ]
  },
  {
   "cell_type": "code",
   "execution_count": 12,
   "metadata": {},
   "outputs": [],
   "source": [
    "with open(out_path, \"w\") as handler:\n",
    "    for header, seq in fasta.items():\n",
    "        seq_noDash = str(seq).replace(\"-\", \"\")\n",
    "        handler.write(f\">{header}\\n\")\n",
    "        handler.write(f\"{seq_noDash}\\n\")"
   ]
  },
  {
   "cell_type": "code",
   "execution_count": null,
   "metadata": {},
   "outputs": [],
   "source": []
  }
 ],
 "metadata": {
  "kernelspec": {
   "display_name": "Python 3.9.13 ('protspace3d')",
   "language": "python",
   "name": "python3"
  },
  "language_info": {
   "codemirror_mode": {
    "name": "ipython",
    "version": 3
   },
   "file_extension": ".py",
   "mimetype": "text/x-python",
   "name": "python",
   "nbconvert_exporter": "python",
   "pygments_lexer": "ipython3",
   "version": "3.9.13"
  },
  "orig_nbformat": 4,
  "vscode": {
   "interpreter": {
    "hash": "f967f6acf9417b335e0267c1a18089754f7cfe4000dd5b5afc6f7bca3da22610"
   }
  }
 },
 "nbformat": 4,
 "nbformat_minor": 2
}
